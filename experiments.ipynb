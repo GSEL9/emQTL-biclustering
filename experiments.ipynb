{
 "cells": [
  {
   "cell_type": "code",
   "execution_count": 1,
   "metadata": {
    "collapsed": true
   },
   "outputs": [],
   "source": [
    "import numpy as np\n",
    "from matplotlib import pyplot as plt\n",
    "\n",
    "from datetime import datetime\n",
    "\n",
    "from sklearn.datasets import make_checkerboard\n",
    "from sklearn.datasets import samples_generator as sg\n",
    "\n",
    "from sklearn.metrics import consensus_score\n",
    "\n",
    "import cluster"
   ]
  },
  {
   "cell_type": "code",
   "execution_count": 2,
   "metadata": {
    "collapsed": true
   },
   "outputs": [],
   "source": [
    "class timer:\n",
    "    \n",
    "    def __init__(self):\n",
    "        self.datetime = datetime\n",
    "    \n",
    "    def __enter__(self):\n",
    "        self.tic = self.datetime.now()\n",
    "        \n",
    "    def __exit__(self, *args, **kwargs):\n",
    "        print('runtime: {}'.format(self.datetime.now() - self.tic))"
   ]
  },
  {
   "cell_type": "code",
   "execution_count": 3,
   "metadata": {
    "collapsed": true
   },
   "outputs": [],
   "source": [
    "def synth_experiment(model):\n",
    "    \"\"\"Times biclustering algorithms applied to synthetic data.\"\"\"\n",
    "    \n",
    "    n_clusters = (4, 3)\n",
    "\n",
    "    target, rows, columns = make_checkerboard(\n",
    "        shape=(5000, 500), n_clusters=n_clusters, noise=10,\n",
    "        shuffle=False, random_state=0)\n",
    "\n",
    "    data, row_idx, col_idx = sg._shuffle(target, random_state=0)\n",
    "    \n",
    "    with timer():\n",
    "        biclusters = model.fit_transform(data)\n",
    "        score = consensus_score(\n",
    "            biclusters, (rows[:, row_idx], columns[:, col_idx])\n",
    "        )\n",
    "        \n",
    "    return score"
   ]
  },
  {
   "cell_type": "code",
   "execution_count": 22,
   "metadata": {
    "collapsed": true
   },
   "outputs": [],
   "source": [
    "def exper_experiment(model):\n",
    "    \"\"\"Times biclustering algorithms applied to experimental data.\"\"\"\n",
    "    \n",
    "    pass"
   ]
  },
  {
   "cell_type": "code",
   "execution_count": 23,
   "metadata": {},
   "outputs": [],
   "source": [
    "#score = synth_experiment(cluster.ChengChurch())\n",
    "#print('CC score: ', score)"
   ]
  },
  {
   "cell_type": "code",
   "execution_count": 24,
   "metadata": {},
   "outputs": [
    {
     "name": "stdout",
     "output_type": "stream",
     "text": [
      "runtime: 0:01:11.318843\n",
      "Plaid score:  0.166666666667\n"
     ]
    }
   ],
   "source": [
    "score = synth_experiment(cluster.Plaid())\n",
    "print('Plaid score: ', score)"
   ]
  },
  {
   "cell_type": "code",
   "execution_count": 25,
   "metadata": {},
   "outputs": [
    {
     "name": "stdout",
     "output_type": "stream",
     "text": [
      "runtime: 0:00:01.902937\n",
      "Spectral bi score:  0.625400641026\n"
     ]
    }
   ],
   "source": [
    "score = synth_experiment(cluster.Spectral(model='bi'))\n",
    "print('Spectral bi score: ', score)"
   ]
  },
  {
   "cell_type": "code",
   "execution_count": 26,
   "metadata": {},
   "outputs": [
    {
     "name": "stdout",
     "output_type": "stream",
     "text": [
      "runtime: 0:00:00.217611\n",
      "Spectral bi score:  0.208564998676\n"
     ]
    }
   ],
   "source": [
    "score = synth_experiment(cluster.Spectral(model='co'))\n",
    "print('Spectral bi score: ', score)"
   ]
  },
  {
   "cell_type": "code",
   "execution_count": 27,
   "metadata": {},
   "outputs": [
    {
     "name": "stdout",
     "output_type": "stream",
     "text": [
      "runtime: 0:00:26.817454\n",
      "xMotifs score:  0.0\n"
     ]
    }
   ],
   "source": [
    "score = synth_experiment(cluster.XMotifs())\n",
    "print('xMotifs score: ', score)"
   ]
  },
  {
   "cell_type": "code",
   "execution_count": 4,
   "metadata": {},
   "outputs": [
    {
     "name": "stdout",
     "output_type": "stream",
     "text": [
      "runtime: 0:00:05.910645\n",
      "CPB score:  0.0316666666667\n"
     ]
    }
   ],
   "source": [
    "score = synth_experiment(cluster.CPB())\n",
    "print('CPB score: ', score)"
   ]
  },
  {
   "cell_type": "code",
   "execution_count": null,
   "metadata": {
    "collapsed": true
   },
   "outputs": [],
   "source": []
  }
 ],
 "metadata": {
  "kernelspec": {
   "display_name": "Python [conda env:anaconda]",
   "language": "python",
   "name": "conda-env-anaconda-py"
  },
  "language_info": {
   "codemirror_mode": {
    "name": "ipython",
    "version": 3
   },
   "file_extension": ".py",
   "mimetype": "text/x-python",
   "name": "python",
   "nbconvert_exporter": "python",
   "pygments_lexer": "ipython3",
   "version": "3.6.3"
  }
 },
 "nbformat": 4,
 "nbformat_minor": 2
}
