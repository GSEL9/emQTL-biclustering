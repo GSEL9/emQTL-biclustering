{
 "cells": [
  {
   "cell_type": "markdown",
   "metadata": {},
   "source": [
    "# Experiments\n",
    "\n",
    "### Algorithms \n",
    "\n",
    "Algorithms differ in how they define biclusters. Some of the common types include:\n",
    "- constant values, constant rows, or constant columns\n",
    "- unusually high or low values\n",
    "- submatrices with low variance\n",
    "- correlated rows or columns\n",
    "\n",
    "Algorithms also differ in how rows and columns may be assigned to biclusters, which leads to different bicluster structures. Block diagonal or checkerboard structures occur when rows and columns are divided into partitions.\n",
    "\n",
    "If each row and each column belongs to exactly one bicluster, then rearranging the rows and columns of the data matrix reveals the biclusters on the diagonal. \n",
    "\n",
    "In the checkerboard case, each row belongs to all column clusters, and each column belongs to all row clusters.\n",
    "\n",
    "### Bicluster Taxonomy\n",
    "\n",
    "Several types of biclusters have been described and categorised in the literature, depending on\n",
    "the pattern exhibited by the genes across the experimental conditions.\n",
    "* **Constant values**: A bicluster with constant values reveals subsets of genes with similar ex-\n",
    "pression values within a subset of conditions. \n",
    "* **Constant values on rows or columns**: A bicluster with constant values in the rows/columns identifies a subset of genes/conditions with similar expression levels across a subset\n",
    "of conditions/genes. Expression levels might therefore vary from gene to gene or from condition to condition. \n",
    "* **Coherent values on both rows and columns**: This kind of bicluster identifies more complex relationships between genes and conditions, either in an additive or multiplicative way-\n",
    "* **Coherent evolutions**: Evidence that a subset of genes is up-regulated or down-regulated\n",
    "across a subset of conditions without taking into account their actual expression values. In\n",
    "this situation, data in the bicluster do not follow any mathematical model.\n",
    "\n",
    "### Shifting and Scaling Expression Patterns\n",
    "\n",
    "Possible patterns in gene expression data (does not necessarily apply to Bonferroni corrected p-values). Shifting and scaling patterns are defined using numerical relationships between the values in a bicluster. \n",
    "* **Perfect shifting pattern**: The bicluster values can be obtained by adding a constant condition number to a typical value for each gene.\n",
    "* **Perfect scaling patterns**: The biclsuter values can be obtained by multiplying a typical value for the gene by a scaling coefficient. In this case, the genes do not follow a paral-\n",
    "lel tendency. Although the genes present the same behaviour with regard to the regulation,\n",
    "changes are more abrupt for some genes than for others.\n",
    "* **Perfect shifting and scaling patterns**: A bicluster includes a shifting, a scaling or both shifting and scaling patterns.\n",
    "\n",
    "### Scoring metrics\n",
    "\n",
    "There are two ways of evaluating a biclustering result: internal and external. Internal measures, such as cluster stability, rely only on the data and the result themselves. \n",
    "\n",
    "* **Silhouette score**: The silhouette value is a measure of how similar an object is to its own cluster (cohesion) compared to other clusters (separation).\n",
    "\n",
    "External measures refer to an external source of information, such as the true solution. When working with real data the true solution is usually unknown, but biclustering artificial data may be useful for evaluating algorithms precisely because the true solution is known.\n",
    "\n",
    "To compare a set of found biclusters to the set of true biclusters, two similarity measures are needed: a similarity measure for individual biclusters, and a way to combine these individual similarities into an overall score.\n",
    "\n",
    "* **Jaccard index**: The Jaccard index achieves its minimum of 0 when the biclusters to not overlap at all and its maximum of 1 when they are identical."
   ]
  },
  {
   "cell_type": "code",
   "execution_count": 1,
   "metadata": {
    "collapsed": true
   },
   "outputs": [],
   "source": [
    "import cluster\n",
    "import datasets\n",
    "\n",
    "import numpy as np\n",
    "import pandas as pd\n",
    "import seaborn as sns\n",
    "import matplotlib.pyplot as plt\n",
    "import sklearn.datasets.samples_generator as sgen\n",
    "\n",
    "from sklearn.metrics import consensus_score\n",
    "from sklearn.datasets import make_checkerboard\n",
    "from sklearn.datasets import make_blobs\n",
    "\n",
    "sns.set()\n",
    "plt.rcParams['font.size'] = 16\n",
    "plt.rcParams['axes.facecolor'] = 'white'\n",
    "\n",
    "%matplotlib inline"
   ]
  },
  {
   "cell_type": "code",
   "execution_count": 2,
   "metadata": {},
   "outputs": [],
   "source": [
    "# NOTES Experiments:\n",
    "# Stage 0: Clustering synthetic data\n",
    "# - Generate sample data similar to the four types of experimental data\n",
    "# Stage 1: Clustering significant values\n",
    "# - Cluster the filtered experimental data and evaluate the clusters.\n",
    "# Stage 2: Clustering original values\n",
    "# - Cluster the original experimental data and evaluate the clusters.\n",
    "# Steps to evaluate quality of clusters:\n",
    "# 1. Perform enrichment step for genes of the found biclusters through GO and KEEG.\n",
    "# 2. "
   ]
  },
  {
   "cell_type": "code",
   "execution_count": 3,
   "metadata": {
    "collapsed": true
   },
   "outputs": [],
   "source": [
    "orig_pvalues = pd.read_csv('./../data/train/orig_pvalues_prep.csv', sep=',', index_col=0)\n",
    "orig_ccp = pd.read_csv('./../data/train/orig_pcc_prep.csv', sep=',', index_col=0)"
   ]
  },
  {
   "cell_type": "code",
   "execution_count": null,
   "metadata": {
    "collapsed": true
   },
   "outputs": [],
   "source": [
    "\"\"\"\n",
    "To evaluate the quality of gene clusters on real datasets:\n",
    "    * Performed an enrichment step for the genes of the found biclusters \n",
    "      through the Gene Ontology (GO) considering the Biological Process Ontology \n",
    "      (https://github.com/tanghaibao/goatools)\n",
    "      and the Kyoto Encyclopedia of Genes and Genomes (KEGG) [43] pathways\n",
    "    * Carried out the evaluation with the clusterProfiler package. \n",
    "    * In each analysis, a bicluster was considered enriched if its adjusted p-value after the \n",
    "    Benjamini and Hochberg multiple test correction was smaller than 0.05. For each bicluster we \n",
    "    considered the term with the smallest adjusted p-value.\n",
    "\"\"\""
   ]
  },
  {
   "cell_type": "code",
   "execution_count": null,
   "metadata": {
    "collapsed": true
   },
   "outputs": [],
   "source": []
  }
 ],
 "metadata": {
  "kernelspec": {
   "display_name": "Python [conda env:anaconda]",
   "language": "python",
   "name": "conda-env-anaconda-py"
  },
  "language_info": {
   "codemirror_mode": {
    "name": "ipython",
    "version": 3
   },
   "file_extension": ".py",
   "mimetype": "text/x-python",
   "name": "python",
   "nbconvert_exporter": "python",
   "pygments_lexer": "ipython3",
   "version": "3.6.3"
  }
 },
 "nbformat": 4,
 "nbformat_minor": 2
}
