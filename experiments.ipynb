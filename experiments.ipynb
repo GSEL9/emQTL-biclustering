{
 "cells": [
  {
   "cell_type": "markdown",
   "metadata": {},
   "source": [
    "# Clustering\n",
    "\n",
    "Reproducing clusters from paper. \n",
    "\n",
    "**validation targets**\n",
    "\n",
    "Two clusters:\n",
    "* Cluster 1: 3401 CpGs and 160 genes\n",
    "* Cluster 2: 3601 CpGs and 270 genes\n",
    "\n",
    "Attempt:\n",
    "* Upscale p-values\n",
    "* Cluster reg coeffs \n",
    "* Implement score metric to evaluate\n",
    "    * Consensus score\n",
    "* Apply other biclsutering algorithms"
   ]
  },
  {
   "cell_type": "code",
   "execution_count": 1,
   "metadata": {
    "collapsed": true
   },
   "outputs": [],
   "source": [
    "import numpy as np\n",
    "import pandas as pd\n",
    "import matplotlib.pyplot as plt\n",
    "import missingno as msno\n",
    "\n",
    "from sklearn.metrics import consensus_score\n",
    "\n",
    "%matplotlib inline"
   ]
  },
  {
   "cell_type": "code",
   "execution_count": 13,
   "metadata": {
    "collapsed": true
   },
   "outputs": [],
   "source": [
    "path_to_file = './../data/./../data/significant_pvalues_prep.csv'\n",
    "#path_to_file = './../data/./../data/significant_pcc_prep.csv'\n",
    "data = pd.read_csv(path_to_file, index_col=0)"
   ]
  },
  {
   "cell_type": "code",
   "execution_count": 3,
   "metadata": {},
   "outputs": [
    {
     "data": {
      "text/html": [
       "<div>\n",
       "<style scoped>\n",
       "    .dataframe tbody tr th:only-of-type {\n",
       "        vertical-align: middle;\n",
       "    }\n",
       "\n",
       "    .dataframe tbody tr th {\n",
       "        vertical-align: top;\n",
       "    }\n",
       "\n",
       "    .dataframe thead th {\n",
       "        text-align: right;\n",
       "    }\n",
       "</style>\n",
       "<table border=\"1\" class=\"dataframe\">\n",
       "  <thead>\n",
       "    <tr style=\"text-align: right;\">\n",
       "      <th></th>\n",
       "      <th>TNFRSF4</th>\n",
       "      <th>MXRA8</th>\n",
       "      <th>ATAD3A</th>\n",
       "      <th>MMP23B</th>\n",
       "      <th>SLC35E2</th>\n",
       "      <th>MORN1</th>\n",
       "      <th>KCNAB2</th>\n",
       "      <th>KLHL21</th>\n",
       "      <th>TNFRSF9</th>\n",
       "      <th>ENO1</th>\n",
       "      <th>...</th>\n",
       "      <th>ATP11C</th>\n",
       "      <th>CXorf40B</th>\n",
       "      <th>MAGEA4</th>\n",
       "      <th>MAGEA12</th>\n",
       "      <th>CETN2</th>\n",
       "      <th>PNMA5</th>\n",
       "      <th>PNMA3</th>\n",
       "      <th>TREX2</th>\n",
       "      <th>ARHGAP4</th>\n",
       "      <th>FLNA</th>\n",
       "    </tr>\n",
       "  </thead>\n",
       "  <tbody>\n",
       "    <tr>\n",
       "      <th>cg00002224</th>\n",
       "      <td>0.0</td>\n",
       "      <td>0.0</td>\n",
       "      <td>0.0</td>\n",
       "      <td>0.0</td>\n",
       "      <td>0.0</td>\n",
       "      <td>0.0</td>\n",
       "      <td>0.0</td>\n",
       "      <td>0.0</td>\n",
       "      <td>0.0</td>\n",
       "      <td>0.0</td>\n",
       "      <td>...</td>\n",
       "      <td>0.0</td>\n",
       "      <td>0.0</td>\n",
       "      <td>0.0</td>\n",
       "      <td>0.0</td>\n",
       "      <td>0.0</td>\n",
       "      <td>0.0</td>\n",
       "      <td>0.0</td>\n",
       "      <td>0.0</td>\n",
       "      <td>0.0</td>\n",
       "      <td>0.0</td>\n",
       "    </tr>\n",
       "    <tr>\n",
       "      <th>cg00002426</th>\n",
       "      <td>0.0</td>\n",
       "      <td>0.0</td>\n",
       "      <td>0.0</td>\n",
       "      <td>0.0</td>\n",
       "      <td>0.0</td>\n",
       "      <td>0.0</td>\n",
       "      <td>0.0</td>\n",
       "      <td>0.0</td>\n",
       "      <td>0.0</td>\n",
       "      <td>0.0</td>\n",
       "      <td>...</td>\n",
       "      <td>0.0</td>\n",
       "      <td>0.0</td>\n",
       "      <td>0.0</td>\n",
       "      <td>0.0</td>\n",
       "      <td>0.0</td>\n",
       "      <td>0.0</td>\n",
       "      <td>0.0</td>\n",
       "      <td>0.0</td>\n",
       "      <td>0.0</td>\n",
       "      <td>0.0</td>\n",
       "    </tr>\n",
       "    <tr>\n",
       "      <th>cg00002593</th>\n",
       "      <td>0.0</td>\n",
       "      <td>0.0</td>\n",
       "      <td>0.0</td>\n",
       "      <td>0.0</td>\n",
       "      <td>0.0</td>\n",
       "      <td>0.0</td>\n",
       "      <td>0.0</td>\n",
       "      <td>0.0</td>\n",
       "      <td>0.0</td>\n",
       "      <td>0.0</td>\n",
       "      <td>...</td>\n",
       "      <td>0.0</td>\n",
       "      <td>0.0</td>\n",
       "      <td>0.0</td>\n",
       "      <td>0.0</td>\n",
       "      <td>0.0</td>\n",
       "      <td>0.0</td>\n",
       "      <td>0.0</td>\n",
       "      <td>0.0</td>\n",
       "      <td>0.0</td>\n",
       "      <td>0.0</td>\n",
       "    </tr>\n",
       "    <tr>\n",
       "      <th>cg00002719</th>\n",
       "      <td>0.0</td>\n",
       "      <td>0.0</td>\n",
       "      <td>0.0</td>\n",
       "      <td>0.0</td>\n",
       "      <td>0.0</td>\n",
       "      <td>0.0</td>\n",
       "      <td>0.0</td>\n",
       "      <td>0.0</td>\n",
       "      <td>0.0</td>\n",
       "      <td>0.0</td>\n",
       "      <td>...</td>\n",
       "      <td>0.0</td>\n",
       "      <td>0.0</td>\n",
       "      <td>0.0</td>\n",
       "      <td>0.0</td>\n",
       "      <td>0.0</td>\n",
       "      <td>0.0</td>\n",
       "      <td>0.0</td>\n",
       "      <td>0.0</td>\n",
       "      <td>0.0</td>\n",
       "      <td>0.0</td>\n",
       "    </tr>\n",
       "    <tr>\n",
       "      <th>cg00003287</th>\n",
       "      <td>0.0</td>\n",
       "      <td>0.0</td>\n",
       "      <td>0.0</td>\n",
       "      <td>0.0</td>\n",
       "      <td>0.0</td>\n",
       "      <td>0.0</td>\n",
       "      <td>0.0</td>\n",
       "      <td>0.0</td>\n",
       "      <td>0.0</td>\n",
       "      <td>0.0</td>\n",
       "      <td>...</td>\n",
       "      <td>0.0</td>\n",
       "      <td>0.0</td>\n",
       "      <td>0.0</td>\n",
       "      <td>0.0</td>\n",
       "      <td>0.0</td>\n",
       "      <td>0.0</td>\n",
       "      <td>0.0</td>\n",
       "      <td>0.0</td>\n",
       "      <td>0.0</td>\n",
       "      <td>0.0</td>\n",
       "    </tr>\n",
       "  </tbody>\n",
       "</table>\n",
       "<p>5 rows × 2664 columns</p>\n",
       "</div>"
      ],
      "text/plain": [
       "            TNFRSF4  MXRA8  ATAD3A  MMP23B  SLC35E2  MORN1  KCNAB2  KLHL21  \\\n",
       "cg00002224      0.0    0.0     0.0     0.0      0.0    0.0     0.0     0.0   \n",
       "cg00002426      0.0    0.0     0.0     0.0      0.0    0.0     0.0     0.0   \n",
       "cg00002593      0.0    0.0     0.0     0.0      0.0    0.0     0.0     0.0   \n",
       "cg00002719      0.0    0.0     0.0     0.0      0.0    0.0     0.0     0.0   \n",
       "cg00003287      0.0    0.0     0.0     0.0      0.0    0.0     0.0     0.0   \n",
       "\n",
       "            TNFRSF9  ENO1  ...   ATP11C  CXorf40B  MAGEA4  MAGEA12  CETN2  \\\n",
       "cg00002224      0.0   0.0  ...      0.0       0.0     0.0      0.0    0.0   \n",
       "cg00002426      0.0   0.0  ...      0.0       0.0     0.0      0.0    0.0   \n",
       "cg00002593      0.0   0.0  ...      0.0       0.0     0.0      0.0    0.0   \n",
       "cg00002719      0.0   0.0  ...      0.0       0.0     0.0      0.0    0.0   \n",
       "cg00003287      0.0   0.0  ...      0.0       0.0     0.0      0.0    0.0   \n",
       "\n",
       "            PNMA5  PNMA3  TREX2  ARHGAP4  FLNA  \n",
       "cg00002224    0.0    0.0    0.0      0.0   0.0  \n",
       "cg00002426    0.0    0.0    0.0      0.0   0.0  \n",
       "cg00002593    0.0    0.0    0.0      0.0   0.0  \n",
       "cg00002719    0.0    0.0    0.0      0.0   0.0  \n",
       "cg00003287    0.0    0.0    0.0      0.0   0.0  \n",
       "\n",
       "[5 rows x 2664 columns]"
      ]
     },
     "execution_count": 3,
     "metadata": {},
     "output_type": "execute_result"
    }
   ],
   "source": [
    "data.head()"
   ]
  },
  {
   "cell_type": "code",
   "execution_count": 4,
   "metadata": {},
   "outputs": [
    {
     "data": {
      "text/plain": [
       "(27561, 2664)"
      ]
     },
     "execution_count": 4,
     "metadata": {},
     "output_type": "execute_result"
    }
   ],
   "source": [
    "data.shape"
   ]
  },
  {
   "cell_type": "code",
   "execution_count": 14,
   "metadata": {},
   "outputs": [
    {
     "data": {
      "image/png": "[encoded data removed]",
      "text/plain": [
       "<matplotlib.figure.Figure at 0x10ec6e390>"
      ]
     },
     "metadata": {},
     "output_type": "display_data"
    }
   ],
   "source": [
    "plt.figure()\n",
    "plt.imshow(data.values, cmap=plt.cm.gray, interpolation='nearest', aspect='auto')\n",
    "plt.title('Original data')\n",
    "plt.savefig('./../imgs/org_sign_pvalues.png')\n",
    "#plt.savefig('./../imgs/org_sign_ppc.png')"
   ]
  },
  {
   "cell_type": "markdown",
   "metadata": {},
   "source": [
    "# Spectral biclustering\n",
    "\n",
    "Assumes the input data matrix has a hidden checkerboard structure."
   ]
  },
  {
   "cell_type": "code",
   "execution_count": 6,
   "metadata": {
    "collapsed": true
   },
   "outputs": [],
   "source": [
    "from sklearn.cluster.bicluster import SpectralBiclustering"
   ]
  },
  {
   "cell_type": "code",
   "execution_count": 15,
   "metadata": {},
   "outputs": [
    {
     "data": {
      "text/plain": [
       "SpectralBiclustering(init='k-means++', method='log', mini_batch=False,\n",
       "           n_best=10, n_clusters=2, n_components=10, n_init=10, n_jobs=1,\n",
       "           n_svd_vecs=10, random_state=0, svd_method='randomized')"
      ]
     },
     "execution_count": 15,
     "metadata": {},
     "output_type": "execute_result"
    }
   ],
   "source": [
    "biclust = SpectralBiclustering(\n",
    "    n_clusters=2, \n",
    "    method='log', \n",
    "    n_components=10,\n",
    "    svd_method='randomized', \n",
    "    n_best=10,\n",
    "    n_svd_vecs=10,\n",
    "    mini_batch=False,\n",
    "    random_state=0\n",
    ")\n",
    "biclust.fit(data)\n",
    "biclust_score = consensus_score(\n",
    "    biclust.biclusters_, (rows[:, row_idx], columns[:, col_idx])\n",
    ")\n",
    "print(\"consensus score: {:.1f}\".format(biclust_score))"
   ]
  },
  {
   "cell_type": "code",
   "execution_count": 16,
   "metadata": {},
   "outputs": [
    {
     "data": {
      "text/plain": [
       "<matplotlib.figure.Figure at 0x10ebc8f60>"
      ]
     },
     "metadata": {},
     "output_type": "display_data"
    },
    {
     "data": {
      "image/png": "[encoded data removed]",
      "text/plain": [
       "<matplotlib.figure.Figure at 0x1124a9e10>"
      ]
     },
     "metadata": {},
     "output_type": "display_data"
    }
   ],
   "source": [
    "biclust_fit_data = data.iloc[np.argsort(biclust.row_labels_)]\n",
    "biclust_fit_data = biclust_fit_data.iloc[:, np.argsort(biclust.column_labels_)]\n",
    "\n",
    "plt.figure(figsize=(4, 10))\n",
    "plt.matshow(biclust_fit_data, cmap=plt.cm.gray, interpolation='nearest', aspect='auto')\n",
    "plt.savefig('./../imgs/sign_pvalues_spectral_biclust.png')\n",
    "#plt.savefig('./../imgs/sign_ppc_spectral_biclust.png')"
   ]
  },
  {
   "cell_type": "markdown",
   "metadata": {},
   "source": [
    "# Spectral coclustering"
   ]
  },
  {
   "cell_type": "code",
   "execution_count": 17,
   "metadata": {
    "collapsed": true
   },
   "outputs": [],
   "source": [
    "from sklearn.cluster.bicluster import SpectralCoclustering"
   ]
  },
  {
   "cell_type": "code",
   "execution_count": 18,
   "metadata": {},
   "outputs": [
    {
     "data": {
      "text/plain": [
       "SpectralCoclustering(init='k-means++', mini_batch=False, n_clusters=2,\n",
       "           n_init=10, n_jobs=1, n_svd_vecs=10, random_state=0,\n",
       "           svd_method='randomized')"
      ]
     },
     "execution_count": 18,
     "metadata": {},
     "output_type": "execute_result"
    }
   ],
   "source": [
    "coclust = SpectralCoclustering(\n",
    "    n_clusters=2, \n",
    "    svd_method='randomized',\n",
    "    n_svd_vecs=10,\n",
    "    mini_batch=False,\n",
    "    random_state=0\n",
    ")\n",
    "coclust.fit(data)\n",
    "coclust_score = consensus_score(\n",
    "    coclust.biclusters_, (rows[:, row_idx], columns[:, col_idx])\n",
    ")\n",
    "print(\"consensus score: {:.1f}\".format(coclust_score))"
   ]
  },
  {
   "cell_type": "code",
   "execution_count": 19,
   "metadata": {
    "collapsed": true
   },
   "outputs": [],
   "source": [
    "coclust_fit_data = data.iloc[np.argsort(coclust.row_labels_)]\n",
    "coclust_fit_data = coclust_fit_data.iloc[:, np.argsort(coclust.column_labels_)]"
   ]
  },
  {
   "cell_type": "code",
   "execution_count": 20,
   "metadata": {},
   "outputs": [
    {
     "data": {
      "text/plain": [
       "<matplotlib.figure.Figure at 0x112003518>"
      ]
     },
     "metadata": {},
     "output_type": "display_data"
    },
    {
     "data": {
      "image/png": "[encoded data removed]",
      "text/plain": [
       "<matplotlib.figure.Figure at 0x112003358>"
      ]
     },
     "metadata": {},
     "output_type": "display_data"
    }
   ],
   "source": [
    "plt.figure(figsize=(30, 10))\n",
    "plt.matshow(coclust_fit_data, cmap=plt.cm.gray, interpolation='nearest', aspect='auto')\n",
    "plt.savefig('./../imgs/sing_pvalues_coclust.png')"
   ]
  },
  {
   "cell_type": "code",
   "execution_count": null,
   "metadata": {
    "collapsed": true
   },
   "outputs": [],
   "source": []
  }
 ],
 "metadata": {
  "kernelspec": {
   "display_name": "Python [conda env:anaconda]",
   "language": "python",
   "name": "conda-env-anaconda-py"
  },
  "language_info": {
   "codemirror_mode": {
    "name": "ipython",
    "version": 3
   },
   "file_extension": ".py",
   "mimetype": "text/x-python",
   "name": "python",
   "nbconvert_exporter": "python",
   "pygments_lexer": "ipython3",
   "version": "3.6.3"
  }
 },
 "nbformat": 4,
 "nbformat_minor": 2
}
