{
 "cells": [
  {
   "cell_type": "markdown",
   "metadata": {},
   "source": [
    "# Experiments\n",
    "\n",
    "### Algorithms \n",
    "\n",
    "Algorithms differ in how they define biclusters. Some of the common types include:\n",
    "- constant values, constant rows, or constant columns\n",
    "- unusually high or low values\n",
    "- submatrices with low variance\n",
    "- correlated rows or columns\n",
    "\n",
    "Algorithms also differ in how rows and columns may be assigned to biclusters, which leads to different bicluster structures. Block diagonal or checkerboard structures occur when rows and columns are divided into partitions.\n",
    "\n",
    "If each row and each column belongs to exactly one bicluster, then rearranging the rows and columns of the data matrix reveals the biclusters on the diagonal. \n",
    "\n",
    "In the checkerboard case, each row belongs to all column clusters, and each column belongs to all row clusters.\n",
    "\n",
    "### Bicluster Taxonomy\n",
    "\n",
    "Several types of biclusters have been described and categorised in the literature, depending on\n",
    "the pattern exhibited by the genes across the experimental conditions.\n",
    "* **Constant values**: A bicluster with constant values reveals subsets of genes with similar ex-\n",
    "pression values within a subset of conditions. \n",
    "* **Constant values on rows or columns**: A bicluster with constant values in the rows/columns identifies a subset of genes/conditions with similar expression levels across a subset\n",
    "of conditions/genes. Expression levels might therefore vary from gene to gene or from condition to condition. \n",
    "* **Coherent values on both rows and columns**: This kind of bicluster identifies more complex relationships between genes and conditions, either in an additive or multiplicative way-\n",
    "* **Coherent evolutions**: Evidence that a subset of genes is up-regulated or down-regulated\n",
    "across a subset of conditions without taking into account their actual expression values. In\n",
    "this situation, data in the bicluster do not follow any mathematical model.\n",
    "\n",
    "### Shifting and Scaling Expression Patterns\n",
    "\n",
    "Possible patterns in gene expression data (does not necessarily apply to Bonferroni corrected p-values). Shifting and scaling patterns are defined using numerical relationships between the values in a bicluster. \n",
    "* **Perfect shifting pattern**: The bicluster values can be obtained by adding a constant condition number to a typical value for each gene.\n",
    "* **Perfect scaling patterns**: The biclsuter values can be obtained by multiplying a typical value for the gene by a scaling coefficient. In this case, the genes do not follow a paral-\n",
    "lel tendency. Although the genes present the same behaviour with regard to the regulation,\n",
    "changes are more abrupt for some genes than for others.\n",
    "* **Perfect shifting and scaling patterns**: A bicluster includes a shifting, a scaling or both shifting and scaling patterns.\n",
    "\n",
    "### Scoring metrics\n",
    "\n",
    "There are two ways of evaluating a biclustering result: internal and external. Internal measures, such as cluster stability, rely only on the data and the result themselves. \n",
    "\n",
    "* **Silhouette score**: The silhouette value is a measure of how similar an object is to its own cluster (cohesion) compared to other clusters (separation).\n",
    "\n",
    "External measures refer to an external source of information, such as the true solution. When working with real data the true solution is usually unknown, but biclustering artificial data may be useful for evaluating algorithms precisely because the true solution is known.\n",
    "\n",
    "To compare a set of found biclusters to the set of true biclusters, two similarity measures are needed: a similarity measure for individual biclusters, and a way to combine these individual similarities into an overall score.\n",
    "\n",
    "* **Jaccard index**: The Jaccard index achieves its minimum of 0 when the biclusters to not overlap at all and its maximum of 1 when they are identical."
   ]
  },
  {
   "cell_type": "code",
   "execution_count": 1,
   "metadata": {},
   "outputs": [],
   "source": [
    "import cluster\n",
    "import datasets\n",
    "import model_selection\n",
    "\n",
    "import operator\n",
    "\n",
    "import numpy as np\n",
    "import pandas as pd\n",
    "import seaborn as sns\n",
    "import matplotlib.pyplot as plt\n",
    "\n",
    "# To specify `fit model` param of R Plaid algorithm\n",
    "import rpy2.robjects as robjects\n",
    "\n",
    "from sklearn.cluster import SpectralBiclustering\n",
    "from sklearn.cluster import SpectralCoclustering\n",
    "\n",
    "plt.rcParams['font.size'] = 16\n",
    "plt.rcParams['axes.facecolor'] = 'white'\n",
    "\n",
    "%matplotlib inline"
   ]
  },
  {
   "cell_type": "code",
   "execution_count": 2,
   "metadata": {
    "collapsed": true
   },
   "outputs": [],
   "source": [
    "# NOTE: Global variables\n",
    "SEED = 0"
   ]
  },
  {
   "cell_type": "markdown",
   "metadata": {},
   "source": [
    "## Test data gallery\n",
    "\n",
    "Load characteristics of reference data "
   ]
  },
  {
   "cell_type": "code",
   "execution_count": 3,
   "metadata": {},
   "outputs": [
    {
     "data": {
      "text/html": [
       "<div>\n",
       "<style scoped>\n",
       "    .dataframe tbody tr th:only-of-type {\n",
       "        vertical-align: middle;\n",
       "    }\n",
       "\n",
       "    .dataframe tbody tr th {\n",
       "        vertical-align: top;\n",
       "    }\n",
       "\n",
       "    .dataframe thead th {\n",
       "        text-align: right;\n",
       "    }\n",
       "</style>\n",
       "<table border=\"1\" class=\"dataframe\">\n",
       "  <thead>\n",
       "    <tr style=\"text-align: right;\">\n",
       "      <th></th>\n",
       "      <th>max</th>\n",
       "      <th>min</th>\n",
       "      <th>std</th>\n",
       "      <th>nrows</th>\n",
       "      <th>ncols</th>\n",
       "      <th>nonzeros</th>\n",
       "    </tr>\n",
       "  </thead>\n",
       "  <tbody>\n",
       "    <tr>\n",
       "      <th>orig_prep_pvalues</th>\n",
       "      <td>73.435290</td>\n",
       "      <td>7.079401e-09</td>\n",
       "      <td>5.889983</td>\n",
       "      <td>27561</td>\n",
       "      <td>2664</td>\n",
       "      <td>73422504</td>\n",
       "    </tr>\n",
       "    <tr>\n",
       "      <th>sel_prep_pvalues</th>\n",
       "      <td>73.435290</td>\n",
       "      <td>0.000000e+00</td>\n",
       "      <td>2.897937</td>\n",
       "      <td>27561</td>\n",
       "      <td>2664</td>\n",
       "      <td>739608</td>\n",
       "    </tr>\n",
       "    <tr>\n",
       "      <th>orig_prep_pcc</th>\n",
       "      <td>0.852443</td>\n",
       "      <td>-8.669647e-01</td>\n",
       "      <td>0.323260</td>\n",
       "      <td>27561</td>\n",
       "      <td>2664</td>\n",
       "      <td>73422504</td>\n",
       "    </tr>\n",
       "    <tr>\n",
       "      <th>sel_prep_pcc</th>\n",
       "      <td>0.852443</td>\n",
       "      <td>-8.669647e-01</td>\n",
       "      <td>0.063930</td>\n",
       "      <td>27561</td>\n",
       "      <td>2664</td>\n",
       "      <td>739608</td>\n",
       "    </tr>\n",
       "  </tbody>\n",
       "</table>\n",
       "</div>"
      ],
      "text/plain": [
       "                         max           min       std  nrows  ncols  nonzeros\n",
       "orig_prep_pvalues  73.435290  7.079401e-09  5.889983  27561   2664  73422504\n",
       "sel_prep_pvalues   73.435290  0.000000e+00  2.897937  27561   2664    739608\n",
       "orig_prep_pcc       0.852443 -8.669647e-01  0.323260  27561   2664  73422504\n",
       "sel_prep_pcc        0.852443 -8.669647e-01  0.063930  27561   2664    739608"
      ]
     },
     "execution_count": 3,
     "metadata": {},
     "output_type": "execute_result"
    }
   ],
   "source": [
    "data_feats = pd.read_csv(\n",
    "    './../data/data_characteristics.csv', sep='\\t', index_col=0\n",
    ")\n",
    "data_feats"
   ]
  },
  {
   "cell_type": "markdown",
   "metadata": {},
   "source": [
    "Generate samples of test data displaying the characteristics of each class of reference data"
   ]
  },
  {
   "cell_type": "code",
   "execution_count": 4,
   "metadata": {},
   "outputs": [],
   "source": [
    "# NOTE: Every other dataset is sparse and the oposite sets contains negative values\n",
    "sample_data, _, _ = datasets.gen_test_sets(\n",
    "    data_feats, sparse=[False, True, False, True], \n",
    "    non_neg=[False, True, False, True],\n",
    "    shape=(500, 300), n_clusters=5, seed=SEED\n",
    ")"
   ]
  },
  {
   "cell_type": "markdown",
   "metadata": {},
   "source": [
    "Display the the test sample data"
   ]
  },
  {
   "cell_type": "code",
   "execution_count": null,
   "metadata": {},
   "outputs": [],
   "source": [
    "nrows, ncols = 2, 2\n",
    "labels = list(sample_data.keys())\n",
    "\n",
    "fig, axes = plt.subplots(\n",
    "    ncols=ncols, nrows=nrows, figsize=(12, 10), sharey=True, sharex=True\n",
    ")\n",
    "num = 0\n",
    "for row in range(nrows):\n",
    "    for col in range(ncols):\n",
    "        _data = sample_data[labels[num]]\n",
    "        sns.heatmap(\n",
    "            _data, ax=axes[row, col], cbar=True,\n",
    "            vmin=np.min(_data), vmax=np.max(_data)\n",
    "        )\n",
    "        axes[row, col].set_title(labels[num])\n",
    "        axes[row, col].axis('off')\n",
    "        \n",
    "        num += 1\n",
    "        \n",
    "plt.tight_layout()"
   ]
  },
  {
   "cell_type": "markdown",
   "metadata": {},
   "source": [
    "## Stage 1\n",
    "\n",
    "**Goal: ** \n",
    "\n",
    "Determine which model is best applicable to each class of test data using the optimal hyperparameter settings.\n"
   ]
  },
  {
   "cell_type": "markdown",
   "metadata": {},
   "source": [
    "Generate test data with varying number of clusters and fized size"
   ]
  },
  {
   "cell_type": "code",
   "execution_count": 5,
   "metadata": {},
   "outputs": [],
   "source": [
    "# NOTE: Test data\n",
    "# * Generate two sets of data: one with different number of clusters and one\n",
    "#   with two clusters (ref paper results) and varying array sizes.\n",
    "# * Goal: Determine which algorithm is best applicable to determine clusters and which is\n",
    "#   best to handle large arrays.\n",
    "\n",
    "# NOTE: The reference data contains approx. ten times more rows than columns.\n",
    "array_size = (1000, 100)\n",
    "var_num_clusters = [2, 4, 8]\n",
    "# NOTE: Each list element is a tuple of data, rows, cols\n",
    "cluster_exp_data = [\n",
    "    datasets.gen_test_sets(\n",
    "        data_feats, sparse=[False, True, False, True], \n",
    "        non_neg=[False, True, False, True],\n",
    "        shape=array_size, n_clusters=n_clusters, seed=SEED\n",
    "    ) \n",
    "    for n_clusters in var_num_clusters\n",
    "]"
   ]
  },
  {
   "cell_type": "markdown",
   "metadata": {},
   "source": [
    "### Experiment: scikit-learn spectral algorhtms\n",
    "\n",
    "Setup scikit-learn algorithms and hyperparameter grids"
   ]
  },
  {
   "cell_type": "code",
   "execution_count": 6,
   "metadata": {
    "collapsed": true
   },
   "outputs": [],
   "source": [
    "# NOTE: Grid Search\n",
    "# * Do not want to optimize with respect to the number of clusters. Pass\n",
    "#   the correct number of clusters to allow optimization of other params.\n",
    "# * Passing data to execute() and not constructor allows running\n",
    "#   experiments with same models and params over different datasets.\n",
    "skmodels_and_params = [\n",
    "    (\n",
    "        SpectralBiclustering, {\n",
    "            'n_clusters': [5], 'method': ['log', 'bistochastic'], \n",
    "            'n_components': [6, 9, 12], 'n_best': [3, 6]\n",
    "        }\n",
    "    ),\n",
    "    (\n",
    "        SpectralCoclustering, {'n_clusters': [5]}\n",
    "    )\n",
    "]"
   ]
  },
  {
   "cell_type": "markdown",
   "metadata": {},
   "source": [
    "Run experiment with four classes of test data across each set of test data parameter settings"
   ]
  },
  {
   "cell_type": "code",
   "execution_count": 7,
   "metadata": {
    "scrolled": false
   },
   "outputs": [
    {
     "name": "stdout",
     "output_type": "stream",
     "text": [
      "Experiment completed with 2 clusters\n",
      "\n",
      "Experiment completed with 4 clusters\n",
      "\n",
      "Experiment completed with 8 clusters\n",
      "\n"
     ]
    }
   ],
   "source": [
    "# NOTE: Experiment\n",
    "# * One execution = one run for each class of test data with given models\n",
    "#   and params.\n",
    "# * Collects the best model instantiated with optimal hyperparameters for each class\n",
    "#   of test data.\n",
    "# * Run two experiments per dataset. The second run (validatoin run) indicates whether \n",
    "#   the intial results are randomly caused or consistent with the system characteristics.\n",
    "# * Record the winning model for each class of test data. The model with\n",
    "#   the most wins per test data class is the recommended model for clustering\n",
    "#   that type of data.\n",
    "# * Running a time complexity experiment cuases challenges when recording execution time \n",
    "#   (unless extracting from performance report). Do time complexity experiment with selected\n",
    "#   algs/skip that type of experiment/fix report func and do experiment?\n",
    "\n",
    "# NOTE: Selecting best model in multiexperiment\n",
    "# * The winning models are recorded for each run, thus, the winning model is\n",
    "#   the model with the most counts after the multiexperiment is over.\n",
    "multi_exper = model_selection.MultiExperiment(skmodels_and_params)\n",
    "multi_exper.execute_all(cluster_exp_data, data_feats.index)\n",
    "# Prints the winning models across all runs.\n",
    "print(multi_exper.best_models)"
   ]
  },
  {
   "cell_type": "code",
   "execution_count": null,
   "metadata": {
    "collapsed": true
   },
   "outputs": [],
   "source": []
  },
  {
   "cell_type": "markdown",
   "metadata": {},
   "source": [
    "Generate test data with two clusters and varying size"
   ]
  },
  {
   "cell_type": "code",
   "execution_count": null,
   "metadata": {
    "collapsed": true
   },
   "outputs": [],
   "source": [
    "# NOTE: Identified two clusters in paper as reference\n",
    "num_clusters = 2\n",
    "var_array_sizes = [(1000, 100), (5000, 500), (7000, 700), (10000, 1000)]\n",
    "size_exp_data = [\n",
    "    datasets.gen_test_sets(\n",
    "        data_feats, sparse=[False, True, False, True], \n",
    "        non_neg=[False, True, False, True],\n",
    "        shape=array_size, n_clusters=num_clusters, seed=SEED\n",
    "    ) \n",
    "    for array_size in var_array_sizes\n",
    "]"
   ]
  },
  {
   "cell_type": "code",
   "execution_count": null,
   "metadata": {},
   "outputs": [],
   "source": [
    "experiment = model_selection.Experiment(models_and_params, verbose=1)\n",
    "\n",
    "# ERROR:\n",
    "#for num, (test_data, test_rows, test_cols) in enumerate(size_exp_data):\n",
    "#    experiment.execute(test_data, (test_rows, test_cols), target='time')\n",
    "    \n",
    "#    print('Experiment completed with {0} array size\\n'.format(var_array_sizes[num]))"
   ]
  },
  {
   "cell_type": "markdown",
   "metadata": {},
   "source": [
    "### Experiment: R biclust algorithms\n",
    "\n",
    "Setup R algorithms and hyperparameter grids. see [R biclust docs](https://cran.r-project.org/web/packages/biclust/biclust.pdf) for param description."
   ]
  },
  {
   "cell_type": "code",
   "execution_count": null,
   "metadata": {},
   "outputs": [],
   "source": [
    "rmodels_and_params = [\n",
    "    (\n",
    "        cluster.Plaid, {\n",
    "            'cluster': ['r', 'c', 'b'],\n",
    "            'fit_model': [\n",
    "                robjects.r('y ~ m + a + b'),\n",
    "                robjects.r('y ~ m * a + m  * b')\n",
    "            ],\n",
    "            'background': [True],\n",
    "            'row_release': [0.5, 0.7],\n",
    "            'col_release': [0.5, 0.7],\n",
    "            'back_fit': [0, 1],\n",
    "            'max_layers': [20, 30],\n",
    "        }\n",
    "    ),\n",
    "        cluster.XMotifs, {\n",
    "            \n",
    "        }\n",
    "]"
   ]
  },
  {
   "cell_type": "markdown",
   "metadata": {},
   "source": [
    "Run experiment"
   ]
  },
  {
   "cell_type": "code",
   "execution_count": null,
   "metadata": {},
   "outputs": [],
   "source": []
  },
  {
   "cell_type": "markdown",
   "metadata": {},
   "source": [
    "### Experiment: Binary"
   ]
  },
  {
   "cell_type": "markdown",
   "metadata": {},
   "source": [
    "## Stage 2"
   ]
  },
  {
   "cell_type": "code",
   "execution_count": null,
   "metadata": {
    "collapsed": true
   },
   "outputs": [],
   "source": [
    "#orig_pvalues = pd.read_csv('./../data/train/orig_pvalues_prep.csv', sep=',', index_col=0)\n",
    "#orig_ccp = pd.read_csv('./../data/train/orig_pcc_prep.csv', sep=',', index_col=0)"
   ]
  },
  {
   "cell_type": "code",
   "execution_count": null,
   "metadata": {
    "collapsed": true
   },
   "outputs": [],
   "source": [
    "# * Necessary to standardize data in order to avoid sklearn inf/NaN error.\n",
    "#   Also necessary to standardize when clustering reference data?\n",
    "# * Reconstruct the clustered image and extract genes/CpGs beloning the found clusters\n",
    "# * Apply the winning algorithm from each class (sklearn, R, binary) to the four reference images"
   ]
  }
 ],
 "metadata": {
  "kernelspec": {
   "display_name": "Python [conda env:anaconda]",
   "language": "python",
   "name": "conda-env-anaconda-py"
  },
  "language_info": {
   "codemirror_mode": {
    "name": "ipython",
    "version": 3
   },
   "file_extension": ".py",
   "mimetype": "text/x-python",
   "name": "python",
   "nbconvert_exporter": "python",
   "pygments_lexer": "ipython3",
   "version": "3.6.3"
  }
 },
 "nbformat": 4,
 "nbformat_minor": 2
}
