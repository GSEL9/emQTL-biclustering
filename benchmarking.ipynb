{
 "cells": [
  {
   "cell_type": "markdown",
   "metadata": {},
   "source": [
    "# Benchmarking algorithms \n",
    "\n",
    "Algorithms differ in how they define biclusters. Some of the common types include:\n",
    "- constant values, constant rows, or constant columns\n",
    "- unusually high or low values\n",
    "- submatrices with low variance\n",
    "- correlated rows or columns\n",
    "\n",
    "Algorithms also differ in how rows and columns may be assigned to biclusters, which leads to different bicluster structures. Block diagonal or checkerboard structures occur when rows and columns are divided into partitions.\n",
    "\n",
    "If each row and each column belongs to exactly one bicluster, then rearranging the rows and columns of the data matrix reveals the biclusters on the diagonal. \n",
    "\n",
    "In the checkerboard case, each row belongs to all column clusters, and each column belongs to all row clusters.\n",
    "\n",
    "### Bicluster Taxonomy\n",
    "\n",
    "Several types of biclusters have been described and categorised in the literature, depending on\n",
    "the pattern exhibited by the genes across the experimental conditions.\n",
    "* **Constant values**: A bicluster with constant values reveals subsets of genes with similar ex-\n",
    "pression values within a subset of conditions. \n",
    "* **Constant values on rows or columns**: A bicluster with constant values in the rows/columns identifies a subset of genes/conditions with similar expression levels across a subset\n",
    "of conditions/genes. Expression levels might therefore vary from gene to gene or from condition to condition. \n",
    "* **Coherent values on both rows and columns**: This kind of bicluster identifies more complex relationships between genes and conditions, either in an additive or multiplicative way-\n",
    "* **Coherent evolutions**: Evidence that a subset of genes is up-regulated or down-regulated\n",
    "across a subset of conditions without taking into account their actual expression values. In\n",
    "this situation, data in the bicluster do not follow any mathematical model.\n",
    "\n",
    "### Shifting and Scaling Expression Patterns\n",
    "\n",
    "Possible patterns in gene expression data (does not necessarily apply to Bonferroni corrected p-values). Shifting and scaling patterns are defined using numerical relationships between the values in a bicluster. \n",
    "* **Perfect shifting pattern**: The bicluster values can be obtained by adding a constant condition number to a typical value for each gene.\n",
    "* **Perfect scaling patterns**: The biclsuter values can be obtained by multiplying a typical value for the gene by a scaling coefficient. In this case, the genes do not follow a paral-\n",
    "lel tendency. Although the genes present the same behaviour with regard to the regulation,\n",
    "changes are more abrupt for some genes than for others.\n",
    "* **Perfect shifting and scaling patterns**: A bicluster includes a shifting, a scaling or both shifting and scaling patterns.\n",
    "\n",
    "### Scoring metrics\n",
    "\n",
    "There are two ways of evaluating a biclustering result: internal and external. Internal measures, such as cluster stability, rely only on the data and the result themselves. \n",
    "\n",
    "* **Silhouette score**: The silhouette value is a measure of how similar an object is to its own cluster (cohesion) compared to other clusters (separation).\n",
    "\n",
    "External measures refer to an external source of information, such as the true solution. When working with real data the true solution is usually unknown, but biclustering artificial data may be useful for evaluating algorithms precisely because the true solution is known.\n",
    "\n",
    "To compare a set of found biclusters to the set of true biclusters, two similarity measures are needed: a similarity measure for individual biclusters, and a way to combine these individual similarities into an overall score.\n",
    "\n",
    "* **Jaccard index**: The Jaccard index achieves its minimum of 0 when the biclusters to not overlap at all and its maximum of 1 when they are identical."
   ]
  },
  {
   "cell_type": "code",
   "execution_count": null,
   "metadata": {
    "collapsed": true
   },
   "outputs": [],
   "source": [
    "import os\n",
    "\n",
    "import testsets\n",
    "import algorithms\n",
    "import model_selection\n",
    "\n",
    "import numpy as np\n",
    "import pandas as pd\n",
    "import seaborn as sns\n",
    "import matplotlib.pyplot as plt\n",
    "\n",
    "# To specify `fit model` param of R Plaid algorithm\n",
    "import rpy2.robjects as robjects\n",
    "\n",
    "from sklearn.externals import joblib\n",
    "from sklearn.cluster import SpectralBiclustering\n",
    "from sklearn.cluster import SpectralCoclustering\n",
    "\n",
    "plt.rcParams['font.size'] = 16\n",
    "plt.rcParams['axes.facecolor'] = 'white'\n",
    "\n",
    "%matplotlib inline"
   ]
  },
  {
   "cell_type": "code",
   "execution_count": null,
   "metadata": {
    "collapsed": true
   },
   "outputs": [],
   "source": [
    "def model_dump(exp_id, experiment, parent='./../model_dumps/'):\n",
    "    \n",
    "    for test_class in experiment.best_models.keys():\n",
    "        stem = ('').join((exp_id, test_class, '.pkl'))\n",
    "        joblib.dump(\n",
    "            experiment.best_models[test_class][1], \n",
    "            os.path.join(parent, stem)\n",
    "        )"
   ]
  },
  {
   "cell_type": "code",
   "execution_count": null,
   "metadata": {
    "collapsed": true
   },
   "outputs": [],
   "source": [
    "# Globals\n",
    "SEEDS = [0, 1]"
   ]
  },
  {
   "cell_type": "markdown",
   "metadata": {},
   "source": [
    "## Test data gallery\n",
    "\n",
    "Load characteristics of reference data "
   ]
  },
  {
   "cell_type": "code",
   "execution_count": null,
   "metadata": {},
   "outputs": [],
   "source": [
    "data_feats = pd.read_csv(\n",
    "    './../data/data_ids/data_characteristics.csv', sep='\\t', index_col=0\n",
    ")\n",
    "data_feats"
   ]
  },
  {
   "cell_type": "markdown",
   "metadata": {},
   "source": [
    "Generate samples of test data displaying the characteristics of each class of reference data"
   ]
  },
  {
   "cell_type": "code",
   "execution_count": null,
   "metadata": {},
   "outputs": [],
   "source": [
    "# NOTE: Every other reference dataset is sparse and \n",
    "# the oposite sets contains negative values.\n",
    "sample_data, _, _ = testsets.gen_test_sets(\n",
    "    data_feats, sparse=[False, True, False, True],\n",
    "    non_neg=[True, False, True, False],\n",
    "    shape=(500, 300), n_clusters=4, seed=0\n",
    ")"
   ]
  },
  {
   "cell_type": "markdown",
   "metadata": {},
   "source": [
    "Display the the test sample data"
   ]
  },
  {
   "cell_type": "code",
   "execution_count": null,
   "metadata": {},
   "outputs": [],
   "source": [
    "nrows, ncols = 2, 2\n",
    "labels = list(sample_data.keys())\n",
    "\n",
    "fig, axes = plt.subplots(\n",
    "    ncols=ncols, nrows=nrows, figsize=(12, 10), sharey=True, sharex=True\n",
    ")\n",
    "num = 0\n",
    "for row in range(nrows):\n",
    "    for col in range(ncols):\n",
    "        _data = sample_data[labels[num]]\n",
    "        sns.heatmap(\n",
    "            _data, ax=axes[row, col], cbar=True,\n",
    "            vmin=np.min(_data), vmax=np.max(_data)\n",
    "        )\n",
    "        #axes[row, col].set_title(labels[num])\n",
    "        axes[row, col].axis('off')\n",
    "        \n",
    "        num += 1\n",
    "        \n",
    "plt.tight_layout()"
   ]
  },
  {
   "cell_type": "markdown",
   "metadata": {},
   "source": [
    "When shuffled, the test data should resemble the reference data"
   ]
  },
  {
   "cell_type": "code",
   "execution_count": null,
   "metadata": {
    "collapsed": true
   },
   "outputs": [],
   "source": [
    "# TODO: compare shuffled test data to reference data"
   ]
  },
  {
   "cell_type": "markdown",
   "metadata": {},
   "source": [
    "## Experiments\n",
    "\n",
    "To determine which model is best applicable to each class of test data using the optimal hyperparameter settings. Generate fixed size test data with varying number of clusters"
   ]
  },
  {
   "cell_type": "code",
   "execution_count": null,
   "metadata": {
    "collapsed": true
   },
   "outputs": [],
   "source": [
    "# NOTE: The reference data contains approx. ten times more rows than columns.\n",
    "array_size = (1000, 100)\n",
    "var_num_clusters = [2, 4, 6]\n",
    "\n",
    "# NOTE: Each list element is a tuple of data, rows, cols\n",
    "cluster_exp_data = [\n",
    "    testsets.gen_test_sets(\n",
    "        data_feats, sparse=[False, True, False, True], \n",
    "        non_neg=[False, True, False, True],\n",
    "        shape=array_size, n_clusters=n_clusters, seed=SEEDS[0]\n",
    "    ) \n",
    "    for n_clusters in var_num_clusters\n",
    "]"
   ]
  },
  {
   "cell_type": "markdown",
   "metadata": {},
   "source": [
    "### Experiment: scikit-learn spectral algorhtms\n",
    "\n",
    "Setup scikit-learn algorithms and hyperparameter grids"
   ]
  },
  {
   "cell_type": "code",
   "execution_count": null,
   "metadata": {
    "collapsed": true
   },
   "outputs": [],
   "source": [
    "sk_models_and_params = [\n",
    "    (\n",
    "        SpectralBiclustering, {\n",
    "            'method': ['log', 'bistochastic'], \n",
    "            'n_components': [6, 9, 12, 20], \n",
    "            'n_best': [3, 4, 6],\n",
    "            'mini_batch': [True, False],\n",
    "            'n_init': [10, 20, 50]\n",
    "        }\n",
    "    ),\n",
    "    (\n",
    "        SpectralCoclustering, {\n",
    "            'svd_method': ['randomized', 'arpack']\n",
    "            'mini_batch': [True, False],\n",
    "            'n_init': [10, 20, 50]\n",
    "        }\n",
    "    )\n",
    "]"
   ]
  },
  {
   "cell_type": "markdown",
   "metadata": {},
   "source": [
    "Run repeated experiments with four classes of test data"
   ]
  },
  {
   "cell_type": "code",
   "execution_count": null,
   "metadata": {
    "scrolled": false
   },
   "outputs": [],
   "source": [
    "# NOTE: Option to run verbose.\n",
    "sk_multi_exper = model_selection.MultiExperiment(\n",
    "    sk_models_and_params, verbose=0, random_states=SEEDS\n",
    ")\n",
    "sk_multi_exper.execute_all(\n",
    "    cluster_exp_data, data_feats.index\n",
    ")"
   ]
  },
  {
   "cell_type": "code",
   "execution_count": null,
   "metadata": {},
   "outputs": [],
   "source": [
    "print('Performance report sklearn models:\\n')\n",
    "print(sk_multi_exper.performance_report)"
   ]
  },
  {
   "cell_type": "code",
   "execution_count": null,
   "metadata": {
    "collapsed": true
   },
   "outputs": [],
   "source": [
    "# Write instances of winning models to disk.\n",
    "model_dump(exp_id='sk_', experiment=sk_multi_exper)"
   ]
  },
  {
   "cell_type": "markdown",
   "metadata": {},
   "source": [
    "### Experiment: R biclust algorithms\n",
    "\n",
    "Setup R algorithms and hyperparameter grids. see [R biclust docs](https://cran.r-project.org/web/packages/biclust/biclust.pdf) for param description."
   ]
  },
  {
   "cell_type": "code",
   "execution_count": null,
   "metadata": {
    "collapsed": true
   },
   "outputs": [],
   "source": [
    "r_models_and_params = [\n",
    "    (\n",
    "        algorithms.Quest, {\n",
    "            'ns': [100, 200, 500],\n",
    "            'nd': [100, 200, 500],\n",
    "            'sd': [3, 5, 20],\n",
    "            'alpha': [0.05, 0.1, 0.8, 2.0],\n",
    "        }\n",
    "    ), (\n",
    "        algorithms.Bimax, {\n",
    "            'minr': [4, 20],\n",
    "            'minc': [4, 20],\n",
    "        }\n",
    "    ), (\n",
    "        algorithms.ChengChurch, {\n",
    "            'delta': [0.1, 1.0, 1.5, 2.0],\n",
    "            'alpha': [0.05, 0.1, 0.8, 2.0],\n",
    "        }\n",
    "    ), (\n",
    "        algorithms.Plaid, {\n",
    "            'cluster': ['r', 'c', 'b'],\n",
    "            'fit_model': [\n",
    "                robjects.r('y ~ m + a + b'),\n",
    "                robjects.r('y ~ m * a + m  * b')\n",
    "            ],\n",
    "            'background': [True],\n",
    "            'row_release': [0.5, 0.7, 1.0],\n",
    "            'col_release': [0.5, 0.7, 1.0],\n",
    "            'back_fit': [0, 1, 4],\n",
    "            'max_layers': [20, 30, 100],\n",
    "        }\n",
    "    ), (\n",
    "        algorithms.XMotifs, {\n",
    "            'ns': [100, 200, 500],\n",
    "            'nd': [100, 200, 500],\n",
    "            'sd': [3, 5, 20],\n",
    "            'alpha': [0.05, 0.1, 0.8, 2.0]\n",
    "        }\n",
    "    )\n",
    "]"
   ]
  },
  {
   "cell_type": "markdown",
   "metadata": {},
   "source": [
    "Run experiment"
   ]
  },
  {
   "cell_type": "code",
   "execution_count": null,
   "metadata": {},
   "outputs": [],
   "source": [
    "# NOTE: Option to run verbose.\n",
    "r_multi_exper = model_selection.MultiExperiment(\n",
    "    r_models_and_params, verbose=0, random_states=SEEDS\n",
    ")\n",
    "r_multi_exper.execute_all(\n",
    "    cluster_exp_data, data_feats.index\n",
    ")"
   ]
  },
  {
   "cell_type": "code",
   "execution_count": null,
   "metadata": {},
   "outputs": [],
   "source": [
    "print('Performance report R models:\\n')\n",
    "print(r_multi_exper.performance_report)"
   ]
  },
  {
   "cell_type": "code",
   "execution_count": null,
   "metadata": {
    "collapsed": true
   },
   "outputs": [],
   "source": [
    "# Write instances of winning models to disk.\n",
    "model_dump(exp_id='r_', experiment=r_multi_exper)"
   ]
  },
  {
   "cell_type": "code",
   "execution_count": null,
   "metadata": {
    "collapsed": true
   },
   "outputs": [],
   "source": []
  }
 ],
 "metadata": {
  "kernelspec": {
   "display_name": "Python [conda env:anaconda]",
   "language": "python",
   "name": "conda-env-anaconda-py"
  },
  "language_info": {
   "codemirror_mode": {
    "name": "ipython",
    "version": 3
   },
   "file_extension": ".py",
   "mimetype": "text/x-python",
   "name": "python",
   "nbconvert_exporter": "python",
   "pygments_lexer": "ipython3",
   "version": "3.6.3"
  }
 },
 "nbformat": 4,
 "nbformat_minor": 2
}
