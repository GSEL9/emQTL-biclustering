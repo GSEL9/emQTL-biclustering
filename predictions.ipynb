{
 "cells": [
  {
   "cell_type": "markdown",
   "metadata": {},
   "source": [
    "# Predictions\n"
   ]
  },
  {
   "cell_type": "code",
   "execution_count": null,
   "metadata": {
    "collapsed": true
   },
   "outputs": [],
   "source": [
    "import os\n",
    "import ast\n",
    "import subprocess\n",
    "\n",
    "import validation\n",
    "\n",
    "import numpy as np\n",
    "import pandas as pd\n",
    "import seaborn as sns\n",
    "import matplotlib.pyplot as plt\n",
    "\n",
    "from sklearn.externals import joblib\n",
    "\n",
    "plt.rcParams['font.size'] = 16\n",
    "plt.rcParams['axes.facecolor'] = 'white'\n",
    "\n",
    "%matplotlib inline"
   ]
  },
  {
   "cell_type": "code",
   "execution_count": null,
   "metadata": {
    "collapsed": true
   },
   "outputs": [],
   "source": [
    "def fetch_model_dumps(path_to_models, labels):\n",
    "    \"\"\"Read model dumps from disk.\"\"\"\n",
    "    \n",
    "    models = {}\n",
    "    for num, path in enumerate(path_to_models):\n",
    "        models[labels[num]] = joblib.load(path) \n",
    "    \n",
    "    return models"
   ]
  },
  {
   "cell_type": "code",
   "execution_count": null,
   "metadata": {
    "collapsed": true
   },
   "outputs": [],
   "source": [
    "def biclusters(models, ref_labels):\n",
    "    # Create Bicluster instances tracking detected clusters \n",
    "    \n",
    "    biclusters = {}\n",
    "    for label in ref_labels:\n",
    "        rows = models[label].rows_\n",
    "        cols = models[label].columns_\n",
    "\n",
    "        assert np.shape(rows)[0] == np.shape(cols)[0]\n",
    "    \n",
    "        biclusters[label] = validation.Biclusters(\n",
    "            rows=rows, cols=cols, data=ref_data[label]\n",
    "        )\n",
    "        \n",
    "    return biclusters"
   ]
  },
  {
   "cell_type": "code",
   "execution_count": null,
   "metadata": {
    "collapsed": true
   },
   "outputs": [],
   "source": [
    "def sklearn_graphics(data, title, out_path):\n",
    "    \"\"\"Generate a heatmap and save figure to disk.\"\"\"\n",
    "    \n",
    "    plt.figure(figsize=(10, 10))\n",
    "    plt.title(title)\n",
    "    sns.heatmap(\n",
    "        data, robust=True, \n",
    "        cmap=plt.cm.RdBu_r, fmt='f', \n",
    "        vmin=np.min(data), vmax=np.max(data),\n",
    "    )\n",
    "    plt.axis('off')\n",
    "    plt.tight_layout()\n",
    "    plt.savefig(out_path)\n",
    "    \n",
    "    return None"
   ]
  },
  {
   "cell_type": "code",
   "execution_count": null,
   "metadata": {
    "collapsed": true
   },
   "outputs": [],
   "source": [
    "def r_graphics():\n",
    "    \n",
    "    # NOTE: Necessary to execute biclust_graphics.R \n",
    "    # with model, hparams and dataset to produce hm.\n",
    "    pass"
   ]
  },
  {
   "cell_type": "code",
   "execution_count": null,
   "metadata": {
    "collapsed": true
   },
   "outputs": [],
   "source": [
    "# Globals\n",
    "N_CLUSTERS = 2"
   ]
  },
  {
   "cell_type": "code",
   "execution_count": null,
   "metadata": {
    "collapsed": true
   },
   "outputs": [],
   "source": [
    "# Paths to ref cluster indications.\n",
    "path_target_genes = './../data/test/emQTL_Cluster_genes.txt'\n",
    "path_target_cpgs = './../data/test/emQTL_Clusters_CpGs.txt'"
   ]
  },
  {
   "cell_type": "code",
   "execution_count": null,
   "metadata": {
    "collapsed": true
   },
   "outputs": [],
   "source": [
    "# Indicator labels for classes of reference data.\n",
    "ref_labels = [\n",
    "    'orig_pvalues', 'sel_pvalues','orig_pcc', 'sel_pcc'\n",
    "]"
   ]
  },
  {
   "cell_type": "code",
   "execution_count": null,
   "metadata": {
    "collapsed": true
   },
   "outputs": [],
   "source": [
    "# Read experimental data\n",
    "ref_data = {\n",
    "    ref_labels[0]: pd.read_csv(\n",
    "        './../data/train/orig_pvalues_prep.csv', sep=',', index_col=0\n",
    "    ),\n",
    "    # NOTE: Transpose to (genes x cpgs).\n",
    "    ref_labels[1]: pd.read_csv(\n",
    "        './../data/train/sel_pvalues_prep.csv', sep=',', index_col=0\n",
    "    ).T,\n",
    "    ref_labels[2]: pd.read_csv(\n",
    "        './../data/train/orig_pcc_prep.csv', sep=',', index_col=0\n",
    "    ),\n",
    "    # NOTE: Transpose to (genes x cpgs).\n",
    "    ref_labels[3]: pd.read_csv(\n",
    "        './../data/train/sel_pcc_prep.csv', sep=',', index_col=0\n",
    "    ).T,\n",
    "}"
   ]
  },
  {
   "cell_type": "code",
   "execution_count": null,
   "metadata": {
    "collapsed": true
   },
   "outputs": [],
   "source": [
    "ref_clusters = validation.References.from_files(\n",
    "    path_target_cpgs, path_target_genes\n",
    ")"
   ]
  },
  {
   "cell_type": "markdown",
   "metadata": {},
   "source": [
    "## Models: sklearn"
   ]
  },
  {
   "cell_type": "code",
   "execution_count": null,
   "metadata": {
    "collapsed": true
   },
   "outputs": [],
   "source": [
    "path_to_skmodels = [\n",
    "    './../model_dumps/sk_orig_prep_pvalues.pkl',\n",
    "    './../model_dumps/sk_sel_prep_pvalues.pkl',\n",
    "    './../model_dumps/sk_orig_prep_pcc.pkl',\n",
    "    './../model_dumps/sk_sel_prep_pcc.pkl',\n",
    "]\n",
    "sk_models = fetch_model_dumps(path_to_skmodels, ref_labels)"
   ]
  },
  {
   "cell_type": "code",
   "execution_count": null,
   "metadata": {
    "collapsed": true
   },
   "outputs": [],
   "source": [
    "# Set number of clusters to detect.\n",
    "for model in sk_models.values():\n",
    "    model.n_clusters = N_CLUSTERS"
   ]
  },
  {
   "cell_type": "code",
   "execution_count": null,
   "metadata": {
    "collapsed": true
   },
   "outputs": [],
   "source": [
    "# Fit selected models to data.\n",
    "for name, model in sk_models.items():\n",
    "    model.fit(ref_data[name])"
   ]
  },
  {
   "cell_type": "code",
   "execution_count": null,
   "metadata": {
    "collapsed": true
   },
   "outputs": [],
   "source": [
    "# Create Bicluster instances tracking detected clusters \n",
    "sk_biclusters = biclusters(sk_models, ref_labels)"
   ]
  },
  {
   "cell_type": "markdown",
   "metadata": {},
   "source": [
    "### Bicluster statistics"
   ]
  },
  {
   "cell_type": "code",
   "execution_count": null,
   "metadata": {
    "collapsed": true
   },
   "outputs": [],
   "source": [
    "for label in ref_labels:\n",
    "    print('{0}\\n{1}'.format(label, '-' * 50))\n",
    "    print(sk_biclusters[label].stats)\n",
    "    print()"
   ]
  },
  {
   "cell_type": "markdown",
   "metadata": {},
   "source": [
    "### Reference comparison"
   ]
  },
  {
   "cell_type": "code",
   "execution_count": null,
   "metadata": {
    "collapsed": true
   },
   "outputs": [],
   "source": [
    "for label in ref_labels:\n",
    "    print('{0}\\n{1}'.format(label, '-' * 50))\n",
    "    print(validation.compare_clusters(sk_biclusters[label], ref_clusters))\n",
    "    print()"
   ]
  },
  {
   "cell_type": "markdown",
   "metadata": {},
   "source": [
    "### Visualization"
   ]
  },
  {
   "cell_type": "code",
   "execution_count": null,
   "metadata": {
    "collapsed": true
   },
   "outputs": [],
   "source": [
    "# Reconstruct data matrices by sorting data according to\n",
    "# predicted biclusters.\n",
    "reconstr_data = {}\n",
    "for label in ref_labels:\n",
    "    \n",
    "    # Extract fitted model\n",
    "    model = sk_models[label]\n",
    "    \n",
    "    # Sort reference data\n",
    "    data = ref_data[label].values\n",
    "    row_sorted_data = data[np.argsort(model.row_labels_), :]\n",
    "    sorted_col_idx = np.argsort(model.column_labels_)\n",
    "    reconstr_data[label] = row_sorted_data[:, sorted_col_idx]"
   ]
  },
  {
   "cell_type": "code",
   "execution_count": null,
   "metadata": {
    "collapsed": true
   },
   "outputs": [],
   "source": [
    "\"\"\"sklearn_graphics(\n",
    "    reconstr_data[ref_labels[0]],\n",
    "    'Biclustering results of preprocessed\\n'\n",
    "    'Bonferroni corrected p-values', \n",
    "    './../predictions/imgs/org_prep_pvalues.png'\n",
    ")\"\"\""
   ]
  },
  {
   "cell_type": "code",
   "execution_count": null,
   "metadata": {
    "collapsed": true
   },
   "outputs": [],
   "source": [
    "\"\"\"sklearn_graphics(\n",
    "    reconstr_data[ref_labels[1]],\n",
    "    'Biclustering results of selected preprocessed\\n'\n",
    "    'Bonferroni corrected p-values', \n",
    "    './../predictions/imgs/sel_prep_pvalues.png'\n",
    ")\"\"\""
   ]
  },
  {
   "cell_type": "code",
   "execution_count": null,
   "metadata": {
    "collapsed": true
   },
   "outputs": [],
   "source": [
    "\"\"\"sklearn_graphics(\n",
    "    reconstr_data[ref_labels[2]],\n",
    "    'Biclustering results of preprocessed\\n'\n",
    "    'Pearson`s correlation coefficients', \n",
    "    './../predictions/imgs/org_prep_pcc.png'\n",
    ")\"\"\""
   ]
  },
  {
   "cell_type": "code",
   "execution_count": null,
   "metadata": {
    "collapsed": true
   },
   "outputs": [],
   "source": [
    "\"\"\"sklearn_graphics(\n",
    "    reconstr_data[ref_labels[3]],\n",
    "    'Biclustering results of selected preprocessed\\n'\n",
    "    'Pearson`s correlation coefficients', \n",
    "    './../predictions/imgs/sel_prep_pcc.png'\n",
    ")\"\"\""
   ]
  },
  {
   "cell_type": "markdown",
   "metadata": {},
   "source": [
    "## Models: R"
   ]
  },
  {
   "cell_type": "code",
   "execution_count": null,
   "metadata": {
    "collapsed": true
   },
   "outputs": [],
   "source": [
    "# Collect pickled wrapped R models\n",
    "path_to_rmodels = [\n",
    "    './../model_dumps/r_orig_prep_pcc.pkl',\n",
    "    './../model_dumps/r_sel_prep_pvalues.pkl',\n",
    "    './../model_dumps/r_orig_prep_pcc.pkl',\n",
    "    './../model_dumps/r_sel_prep_pcc.pkl',\n",
    "]\n",
    "r_models = fetch_model_dumps(path_to_rmodels, ref_labels)"
   ]
  },
  {
   "cell_type": "code",
   "execution_count": null,
   "metadata": {
    "collapsed": true
   },
   "outputs": [],
   "source": [
    "# Set number of clusters to detect.\n",
    "for model in r_models.values():\n",
    "    model.n_clusters = N_CLUSTERS "
   ]
  },
  {
   "cell_type": "code",
   "execution_count": null,
   "metadata": {
    "collapsed": true
   },
   "outputs": [],
   "source": [
    "for name, model in r_models.items():\n",
    "    # NOTE: Convert from <pandas.DataFrame> to <numpy.ndarray>\n",
    "    model.fit(ref_data[name].values)"
   ]
  },
  {
   "cell_type": "code",
   "execution_count": null,
   "metadata": {
    "collapsed": true
   },
   "outputs": [],
   "source": [
    "# Create Bicluster instances tracking detected clusters \n",
    "r_biclusters = biclusters(r_models, ref_labels)"
   ]
  },
  {
   "cell_type": "markdown",
   "metadata": {},
   "source": [
    "### Bicluster statistics"
   ]
  },
  {
   "cell_type": "code",
   "execution_count": null,
   "metadata": {
    "collapsed": true
   },
   "outputs": [],
   "source": [
    "for label in ref_labels:\n",
    "    print('{0}\\n{1}'.format(label, '-' * 50))\n",
    "    print(r_biclusters[label].stats)\n",
    "    print()"
   ]
  },
  {
   "cell_type": "markdown",
   "metadata": {
    "collapsed": true
   },
   "source": [
    "### Reference comparison"
   ]
  },
  {
   "cell_type": "code",
   "execution_count": null,
   "metadata": {
    "collapsed": true
   },
   "outputs": [],
   "source": [
    "for label in ref_labels:\n",
    "    print('{0}\\n{1}'.format(label, '-' * 50))\n",
    "    print(compare_clusters(r_biclusters[label], ref_clusters))\n",
    "    print()"
   ]
  },
  {
   "cell_type": "markdown",
   "metadata": {
    "collapsed": true
   },
   "source": [
    "### Visualization"
   ]
  },
  {
   "cell_type": "code",
   "execution_count": null,
   "metadata": {
    "collapsed": true
   },
   "outputs": [],
   "source": [
    "# Graphics generated with biclust_graphics.R."
   ]
  },
  {
   "cell_type": "code",
   "execution_count": null,
   "metadata": {
    "collapsed": true
   },
   "outputs": [],
   "source": []
  },
  {
   "cell_type": "code",
   "execution_count": null,
   "metadata": {
    "collapsed": true
   },
   "outputs": [],
   "source": []
  },
  {
   "cell_type": "code",
   "execution_count": null,
   "metadata": {
    "collapsed": true
   },
   "outputs": [],
   "source": [
    "# TEMP\n",
    "def preds_to_disk(models, parent='./../predictions/'):\n",
    "    \"\"\"Generate txt files containing row and column indicators for \n",
    "    detected biclusters associated with different datasets.\"\"\"\n",
    "    \n",
    "    for label, model in models.items():\n",
    "    \n",
    "        pass\n",
    "    \n",
    "    # Store bicluster data (row and col labels) for each set of ref data.\n",
    "        \"\"\"stem = '{0}_biclusters_{1}.txt'.format(model, label)\n",
    "        with open(os.path.join(parent, stem), 'w') as outfile:   \n",
    "            outfile.write('biclusters_{0}\\n'.format(label))\n",
    "\n",
    "            for cluster_num, coords in clusters[label].items():\n",
    "                outfile.write('cluster_num_{0}\\n'.format(cluster_num))\n",
    "                outfile.write('{0}\\n'.format(coords['cpgs']))\n",
    "                outfile.write('{0}\\n'.format(coords['genes']))\n",
    "    \n",
    "    return None\"\"\""
   ]
  }
 ],
 "metadata": {
  "kernelspec": {
   "display_name": "Python [conda env:anaconda]",
   "language": "python",
   "name": "conda-env-anaconda-py"
  },
  "language_info": {
   "codemirror_mode": {
    "name": "ipython",
    "version": 3
   },
   "file_extension": ".py",
   "mimetype": "text/x-python",
   "name": "python",
   "nbconvert_exporter": "python",
   "pygments_lexer": "ipython3",
   "version": "3.6.3"
  }
 },
 "nbformat": 4,
 "nbformat_minor": 2
}
