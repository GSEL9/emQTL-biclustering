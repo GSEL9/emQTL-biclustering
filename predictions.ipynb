{
 "cells": [
  {
   "cell_type": "markdown",
   "metadata": {},
   "source": [
    "# Predictions\n"
   ]
  },
  {
   "cell_type": "code",
   "execution_count": 1,
   "metadata": {
    "collapsed": true
   },
   "outputs": [],
   "source": [
    "import os\n",
    "import ast\n",
    "\n",
    "import base\n",
    "\n",
    "import numpy as np\n",
    "import pandas as pd\n",
    "import seaborn as sns\n",
    "import matplotlib.pyplot as plt\n",
    "\n",
    "from sklearn.externals import joblib\n",
    "\n",
    "plt.rcParams['font.size'] = 16\n",
    "plt.rcParams['axes.facecolor'] = 'white'\n",
    "\n",
    "%matplotlib inline"
   ]
  },
  {
   "cell_type": "code",
   "execution_count": 2,
   "metadata": {
    "collapsed": true
   },
   "outputs": [],
   "source": [
    "def fetch_models(path_to_models, labels):\n",
    "    \"\"\"Read model dumps from disk.\"\"\"\n",
    "    \n",
    "    models = {}\n",
    "    for num, path in enumerate(path_to_models):\n",
    "        models[labels[num]] = joblib.load(path) \n",
    "    \n",
    "    return models"
   ]
  },
  {
   "cell_type": "code",
   "execution_count": 3,
   "metadata": {
    "collapsed": true
   },
   "outputs": [],
   "source": [
    "# Paths to ref cluster indications.\n",
    "path_target_genes = './../data/test/emQTL_Cluster_genes.txt'\n",
    "path_target_cpgs = './../data/test/emQTL_Clusters_CpGs.txt'"
   ]
  },
  {
   "cell_type": "code",
   "execution_count": 4,
   "metadata": {
    "collapsed": true
   },
   "outputs": [],
   "source": [
    "# Indicator labels for classes of reference data.\n",
    "ref_labels = [\n",
    "    'orig_pvalues', 'sel_pvalues','orig_pcc', 'sel_pcc'\n",
    "]"
   ]
  },
  {
   "cell_type": "code",
   "execution_count": 5,
   "metadata": {
    "collapsed": true
   },
   "outputs": [],
   "source": [
    "# Read experimental data\n",
    "ref_data = {\n",
    "    # NOTE: Transpose to (Cpgs x genes).\n",
    "    ref_labels[0]: pd.read_csv(\n",
    "        './../data/train/orig_pvalues_prep.csv', sep=',', index_col=0\n",
    "    ).T,\n",
    "    ref_labels[1]: pd.read_csv(\n",
    "        './../data/train/sel_pvalues_prep.csv', sep=',', index_col=0\n",
    "    ),\n",
    "    # NOTE: Transpose to (Cpgs x genes).\n",
    "    ref_labels[2]: pd.read_csv(\n",
    "        './../data/train/orig_pcc_prep.csv', sep=',', index_col=0\n",
    "    ).T,\n",
    "    ref_labels[3]: pd.read_csv(\n",
    "        './../data/train/sel_pcc_prep.csv', sep=',', index_col=0\n",
    "    ),\n",
    "}"
   ]
  },
  {
   "cell_type": "markdown",
   "metadata": {},
   "source": [
    "## Models: sklearn"
   ]
  },
  {
   "cell_type": "code",
   "execution_count": 6,
   "metadata": {
    "collapsed": true
   },
   "outputs": [],
   "source": [
    "path_to_skmodels = [\n",
    "    './../model_dumps/sk_orig_prep_pvalues.pkl',\n",
    "    './../model_dumps/sk_sel_prep_pvalues.pkl',\n",
    "    './../model_dumps/sk_orig_prep_pcc.pkl',\n",
    "    './../model_dumps/sk_sel_prep_pcc.pkl',\n",
    "]\n",
    "sk_models = fetch_models(path_to_skmodels, ref_labels)"
   ]
  },
  {
   "cell_type": "code",
   "execution_count": 7,
   "metadata": {
    "collapsed": true
   },
   "outputs": [],
   "source": [
    "# Fit selected models to data.\n",
    "for name, model in sk_models.items():\n",
    "    model.fit(ref_data[name])"
   ]
  },
  {
   "cell_type": "code",
   "execution_count": 43,
   "metadata": {
    "collapsed": true
   },
   "outputs": [],
   "source": [
    "class Biclusters:\n",
    "    \"\"\"Representation of a set of predicted\n",
    "    biclusters.\"\"\"\n",
    "\n",
    "    def __init__(self, rows, cols, data):\n",
    "\n",
    "        self.rows = rows\n",
    "        self.cols = cols\n",
    "        self.data = data\n",
    "        \n",
    "        # NOTE: Sets attributes.\n",
    "        self._setup()\n",
    "        \n",
    "    @property\n",
    "    def nbiclusters(self):\n",
    "        \n",
    "        return self._nbiclusters\n",
    "    \n",
    "    @nbiclusters.setter\n",
    "    def nbiclusters(self, value):\n",
    "\n",
    "        if np.shape(self.rows)[0] == np.shape(self.cols)[0]:\n",
    "            self._nbiclusters = value\n",
    "        else:\n",
    "            raise RuntimeError('Sample clusters: {}, ref clusters {}'\n",
    "                               ''.format(sample, ref))\n",
    "\n",
    "    def _setup(self):\n",
    "        \n",
    "        self.nrows, self.ncols = np.shape(self.data)\n",
    "        self.nbiclusters = np.shape(self.rows)[0]\n",
    "\n",
    "        return self\n",
    "\n",
    "    @property\n",
    "    def indicators(self):\n",
    "        \"\"\"Determine coordiantes of row and column indicators\n",
    "        for each bicluster.\n",
    "        \"\"\"\n",
    "\n",
    "        row_idx, col_idx = [], []\n",
    "        for cluster_num in range(self.nbiclusters):\n",
    "\n",
    "            rows_bools = self.rows[cluster_num, :] != 0\n",
    "            cols_bools = self.cols[cluster_num, :] != 0\n",
    "\n",
    "            rows = [index for index, elt in enumerate(rows_bools) if elt]\n",
    "            cols = [index for index, elt in enumerate(cols_bools) if elt]\n",
    "\n",
    "            row_idx.append(rows), col_idx.append(cols)\n",
    "\n",
    "        return row_idx, col_idx\n",
    "\n",
    "    @property\n",
    "    def stats(self):\n",
    "        \"\"\"Compute max, min and std from data points \n",
    "        included in biclusters.\n",
    "        \"\"\"\n",
    "        \n",
    "        row_idx, col_idx = self.indicators \n",
    "        data_size = np.size(self.data)\n",
    "        \n",
    "        stats = {}\n",
    "        for num in range(self.nbiclusters):\n",
    "            \n",
    "            _row_cluster = self.data.values[row_idx[num], :]\n",
    "            cluster = _row_cluster[:, col_idx[num]] \n",
    "            if np.any(cluster):\n",
    "                stats[num] = {\n",
    "                    'max': np.max(cluster),\n",
    "                    'min': np.min(cluster),\n",
    "                    'std': np.std(cluster),\n",
    "                    'rel_size': np.size(cluster) / data_size,\n",
    "                    'zeros': int(np.count_nonzero(cluster==0))\n",
    "                }\n",
    "            else:\n",
    "                pass\n",
    "            \n",
    "        df_stats = pd.DataFrame(stats).T\n",
    "        df_stats.index.name = 'num'\n",
    "\n",
    "        return df_stats\n",
    "    \n",
    "    @property\n",
    "    def labels(self):\n",
    "        \"\"\"Assign row and column labels to biclusters.\"\"\"\n",
    "        \n",
    "        genes = np.array(self.data.columns, dtype=object)\n",
    "        cpgs =  np.array(self.data.index, dtype=object)\n",
    "        \n",
    "        row_idx, col_idx = self.indicators\n",
    "        \n",
    "        row_labels, col_labels = [], []\n",
    "        for num in range(self.nbiclusters):\n",
    "            row_labels.append(cpgs[row_idx[num]])\n",
    "            col_labels.append(genes[col_idx[num]])\n",
    "            \n",
    "        return row_labels, col_labels\n",
    "    \n",
    "    def to_disk(self):\n",
    "        \n",
    "        pass"
   ]
  },
  {
   "cell_type": "code",
   "execution_count": 49,
   "metadata": {},
   "outputs": [],
   "source": [
    "# Create Bicluster instances tracking detected clusters \n",
    "sk_biclusters = {}\n",
    "for label in ref_labels:\n",
    "    rows = sk_models[label].rows_\n",
    "    cols = sk_models[label].columns_\n",
    "\n",
    "    assert np.shape(rows)[0] == np.shape(cols)[0]\n",
    "    \n",
    "    sk_biclusters[label] = Biclusters(\n",
    "        rows=rows, cols=cols, data=ref_data[label]\n",
    "    )"
   ]
  },
  {
   "cell_type": "markdown",
   "metadata": {},
   "source": [
    "### Bicluster statistics"
   ]
  },
  {
   "cell_type": "code",
   "execution_count": 31,
   "metadata": {},
   "outputs": [
    {
     "name": "stdout",
     "output_type": "stream",
     "text": [
      "orig_pvalues\n",
      "----------------------------------------\n",
      "           max           min  rel_size       std  zeros\n",
      "num                                                    \n",
      "0    57.268668  9.188604e-06  0.102633  7.193694    0.0\n",
      "1    73.435290  9.248932e-07  0.367334  5.768430    0.0\n",
      "2    41.719159  4.404799e-04  0.003666  6.030900    0.0\n",
      "\n",
      "sel_pvalues\n",
      "----------------------------------------\n",
      "           max  min  rel_size       std       zeros\n",
      "num                                                \n",
      "0    73.435290  0.0  0.940773  2.986360  68334504.0\n",
      "1    63.915840  0.0  0.000110  3.572772      7989.0\n",
      "2    43.548003  0.0  0.000084  3.782657      6106.0\n",
      "\n",
      "orig_pcc\n",
      "----------------------------------------\n",
      "          max       min  rel_size       std  zeros\n",
      "num                                               \n",
      "0    0.822428 -0.736304  0.178013  0.143568    0.0\n",
      "1    0.852443 -0.738278  0.085744  0.277983    0.0\n",
      "2    0.791034 -0.685308  0.080356  0.195047    0.0\n",
      "\n",
      "sel_pcc\n",
      "----------------------------------------\n",
      "          max       min  rel_size       std       zeros\n",
      "num                                                    \n",
      "1    0.852443 -0.866965  0.846764  0.046069  61841421.0\n",
      "2    0.804678  0.000000  0.001716  0.287118     90920.0\n",
      "\n"
     ]
    }
   ],
   "source": [
    "for label in ref_labels:\n",
    "    print('{0}\\n{1}'.format(label, '-' * 40))\n",
    "    print(sk_biclusters[label].stats)\n",
    "    print()"
   ]
  },
  {
   "cell_type": "markdown",
   "metadata": {},
   "source": [
    "### Reference comparison"
   ]
  },
  {
   "cell_type": "code",
   "execution_count": 32,
   "metadata": {
    "collapsed": true
   },
   "outputs": [],
   "source": [
    "import ast\n",
    "import numpy as np\n",
    "\n",
    "\n",
    "class References:\n",
    "    \"\"\"Representation of a set of reference biclsuters.\"\"\"\n",
    "\n",
    "    @classmethod\n",
    "    def from_files(cls, path_to_cpgs, path_to_genes, num_ref_clusters=2):\n",
    "        \n",
    "        # Read target CpG data.\n",
    "        target_cpgs = {str(num + 1): [] for num in range(num_ref_clusters)}\n",
    "        with open(path_to_cpgs, 'r') as cpgfile:\n",
    "\n",
    "            cpg_contents = cpgfile.read().split('\\n')\n",
    "            # Skip header line.\n",
    "            for row in cpg_contents[1:]:\n",
    "                try:\n",
    "                    value, idx, _ = row.split()\n",
    "                    target_cpgs[idx].append(ast.literal_eval(value))\n",
    "                except:\n",
    "                    pass\n",
    "                    \n",
    "        # Read target gene data.\n",
    "        target_genes = {str(num + 1): [] for num in range(num_ref_clusters)}\n",
    "        with open(path_to_genes, 'r') as genefile:\n",
    "\n",
    "            gene_contents = genefile.read().split('\\n')\n",
    "            # Skip header line.\n",
    "            for row in gene_contents[1:]:\n",
    "                try:\n",
    "                    value, idx = row.split()\n",
    "                    target_genes[idx].append(ast.literal_eval(value))\n",
    "                except:\n",
    "                    pass\n",
    "\n",
    "        return References(cpgs=target_cpgs, genes=target_genes)\n",
    "\n",
    "    def __init__(self, cpgs, genes):\n",
    "\n",
    "        self.cpgs = cpgs\n",
    "        self.genes = genes\n",
    "\n",
    "    @property\n",
    "    def cpgs1(self):\n",
    "\n",
    "        return self.cpgs['1']\n",
    "\n",
    "    @property\n",
    "    def cpgs2(self):\n",
    "\n",
    "        return self.cpgs['2']\n",
    "\n",
    "    @property\n",
    "    def genes1(self):\n",
    "\n",
    "        return self.genes['1']\n",
    "\n",
    "    @property\n",
    "    def genes2(self):\n",
    "\n",
    "        return self.genes['2']"
   ]
  },
  {
   "cell_type": "code",
   "execution_count": 205,
   "metadata": {},
   "outputs": [],
   "source": [
    "def recovery_score(true, pred):\n",
    "    \"\"\"The percentage of true items among the predicted\n",
    "    items.\"\"\"\n",
    "\n",
    "    try:\n",
    "        frac = np.isin(pred, true).sum() / np.size(true)\n",
    "        result = np.round(frac * 100, decimals=1)\n",
    "    except:\n",
    "        result = np.nan\n",
    "    \n",
    "    return result\n",
    "\n",
    "    \n",
    "def relevance_score(true, pred):\n",
    "    \"\"\"The percentage the true predicted items\n",
    "    constitute in the total predicted population.\"\"\"\n",
    "    prin\n",
    "    try:\n",
    "        frac = np.isin(true, pred).sum() / np.size(pred)\n",
    "        result = np.round(frac * 100, decimals=1)\n",
    "    except:\n",
    "        result = np.nan\n",
    "    print(frac, result)\n",
    "    return result\n",
    "    \n",
    "    \n",
    "def compare_clusters(pred_cluster, target_cluster):\n",
    "    \n",
    "    cpgs, genes = pred_cluster.labels        \n",
    "    \n",
    "    scores = np.zeros((len(cpgs) * 2, 4), dtype=float)\n",
    "\n",
    "    prev = 0\n",
    "    for num, _cpgs in enumerate(cpgs):\n",
    "        \n",
    "        cpg_id, gene_id = (num + prev), (num + prev + 1)\n",
    "        \n",
    "        scores[cpg_id, 0] = recovery_score(target_cluster.cpgs1, _cpgs)\n",
    "        scores[cpg_id, 1] = relevance_score(target_cluster.cpgs1, _cpgs)\n",
    "        scores[cpg_id, 2] = recovery_score(target_cluster.cpgs2, _cpgs)\n",
    "        scores[cpg_id, 3] = relevance_score(target_cluster.cpgs2, _cpgs)\n",
    "        \n",
    "        scores[gene_id, 0] = recovery_score(target_cluster.genes1, genes[num])\n",
    "        scores[gene_id, 1] = relevance_score(target_cluster.genes1, genes[num])\n",
    "        scores[gene_id, 2] = recovery_score(target_cluster.genes2, genes[num])\n",
    "        scores[gene_id, 3] = relevance_score(target_cluster.genes2, genes[num])\n",
    "\n",
    "        prev += 1\n",
    "        \n",
    "    idx = pd.MultiIndex.from_product(\n",
    "        [('ref1', 'ref2'), ('recovery', 'relevance')], names=('cluster', 'score')\n",
    "    )\n",
    "    cols = pd.MultiIndex.from_product(\n",
    "        [np.arange(num + 1) + 1, ('cpgs', 'genes')], names=('num', 'kind')\n",
    "    )\n",
    "    df = pd.DataFrame(scores.T, index=idx, columns=cols)\n",
    "    \n",
    "    return df"
   ]
  },
  {
   "cell_type": "code",
   "execution_count": 206,
   "metadata": {},
   "outputs": [
    {
     "name": "stdout",
     "output_type": "stream",
     "text": [
      "0.967021276596 96.7\n",
      "0.000531914893617 0.1\n",
      "nan nan\n",
      "nan nan\n",
      "0.0658951837822 6.6\n",
      "0.089164550639 8.9\n",
      "0.0618238021638 6.2\n",
      "0.0795981452859 8.0\n",
      "0.0 0.0\n"
     ]
    },
    {
     "name": "stderr",
     "output_type": "stream",
     "text": [
      "/Users/severinlangberg/anaconda/lib/python3.6/site-packages/ipykernel/__main__.py:19: RuntimeWarning: invalid value encountered in long_scalars\n"
     ]
    },
    {
     "name": "stdout",
     "output_type": "stream",
     "text": [
      "0.879372738239 87.9\n",
      "0.0131578947368 1.3\n",
      "0.855263157895 85.5\n"
     ]
    },
    {
     "data": {
      "text/html": [
       "<div>\n",
       "<style scoped>\n",
       "    .dataframe tbody tr th:only-of-type {\n",
       "        vertical-align: middle;\n",
       "    }\n",
       "\n",
       "    .dataframe tbody tr th {\n",
       "        vertical-align: top;\n",
       "    }\n",
       "\n",
       "    .dataframe thead tr th {\n",
       "        text-align: left;\n",
       "    }\n",
       "\n",
       "    .dataframe thead tr:last-of-type th {\n",
       "        text-align: right;\n",
       "    }\n",
       "</style>\n",
       "<table border=\"1\" class=\"dataframe\">\n",
       "  <thead>\n",
       "    <tr>\n",
       "      <th></th>\n",
       "      <th>num</th>\n",
       "      <th colspan=\"2\" halign=\"left\">1</th>\n",
       "      <th colspan=\"2\" halign=\"left\">2</th>\n",
       "      <th colspan=\"2\" halign=\"left\">3</th>\n",
       "    </tr>\n",
       "    <tr>\n",
       "      <th></th>\n",
       "      <th>kind</th>\n",
       "      <th>cpgs</th>\n",
       "      <th>genes</th>\n",
       "      <th>cpgs</th>\n",
       "      <th>genes</th>\n",
       "      <th>cpgs</th>\n",
       "      <th>genes</th>\n",
       "    </tr>\n",
       "    <tr>\n",
       "      <th>cluster</th>\n",
       "      <th>score</th>\n",
       "      <th></th>\n",
       "      <th></th>\n",
       "      <th></th>\n",
       "      <th></th>\n",
       "      <th></th>\n",
       "      <th></th>\n",
       "    </tr>\n",
       "  </thead>\n",
       "  <tbody>\n",
       "    <tr>\n",
       "      <th rowspan=\"2\" valign=\"top\">ref1</th>\n",
       "      <th>recovery</th>\n",
       "      <td>53.5</td>\n",
       "      <td>0.0</td>\n",
       "      <td>46.5</td>\n",
       "      <td>99.4</td>\n",
       "      <td>0.0</td>\n",
       "      <td>0.6</td>\n",
       "    </tr>\n",
       "    <tr>\n",
       "      <th>relevance</th>\n",
       "      <td>96.7</td>\n",
       "      <td>NaN</td>\n",
       "      <td>6.6</td>\n",
       "      <td>6.2</td>\n",
       "      <td>0.0</td>\n",
       "      <td>1.3</td>\n",
       "    </tr>\n",
       "    <tr>\n",
       "      <th rowspan=\"2\" valign=\"top\">ref2</th>\n",
       "      <th>recovery</th>\n",
       "      <td>0.0</td>\n",
       "      <td>0.0</td>\n",
       "      <td>59.5</td>\n",
       "      <td>76.0</td>\n",
       "      <td>40.5</td>\n",
       "      <td>24.0</td>\n",
       "    </tr>\n",
       "    <tr>\n",
       "      <th>relevance</th>\n",
       "      <td>0.1</td>\n",
       "      <td>NaN</td>\n",
       "      <td>8.9</td>\n",
       "      <td>8.0</td>\n",
       "      <td>87.9</td>\n",
       "      <td>85.5</td>\n",
       "    </tr>\n",
       "  </tbody>\n",
       "</table>\n",
       "</div>"
      ],
      "text/plain": [
       "num                   1           2           3      \n",
       "kind               cpgs genes  cpgs genes  cpgs genes\n",
       "cluster score                                        \n",
       "ref1    recovery   53.5   0.0  46.5  99.4   0.0   0.6\n",
       "        relevance  96.7   NaN   6.6   6.2   0.0   1.3\n",
       "ref2    recovery    0.0   0.0  59.5  76.0  40.5  24.0\n",
       "        relevance   0.1   NaN   8.9   8.0  87.9  85.5"
      ]
     },
     "execution_count": 206,
     "metadata": {},
     "output_type": "execute_result"
    }
   ],
   "source": [
    "# Reference clusters.\n",
    "#ref_cls = References.from_files(path_target_cpgs, path_target_genes)\n",
    "\n",
    "#biclust_cpgs = sk_biclusters[ref_labels[0]].labels[0]\n",
    "#biclust_genes = sk_biclusters[ref_labels[0]].labels[1]\n",
    "df = compare_clusters(sk_biclusters[ref_labels[-1]], ref_cls)\n",
    "df"
   ]
  },
  {
   "cell_type": "code",
   "execution_count": 196,
   "metadata": {},
   "outputs": [],
   "source": [
    "pred_cluster = sk_biclusters[ref_labels[0]]\n",
    "cpgs, genes = pred_cluster.labels\n",
    "\n",
    "# Reference clusters.\n",
    "ref_clusters = References.from_files(path_target_cpgs, path_target_genes)"
   ]
  },
  {
   "cell_type": "code",
   "execution_count": 197,
   "metadata": {},
   "outputs": [
    {
     "name": "stdout",
     "output_type": "stream",
     "text": [
      "orig_pvalues\n",
      "----------------------------------------\n",
      "num                    1            2          3      \n",
      "kind                cpgs  genes  cpgs genes cpgs genes\n",
      "cluster score                                         \n",
      "ref1    recovery   100.0  100.0   0.0   0.0  0.0   0.0\n",
      "        relevance   31.4   23.1   0.0   0.0  0.0   0.0\n",
      "ref2    recovery     1.8    7.7  98.2  92.3  0.0   0.0\n",
      "        relevance    0.6    3.0  22.6  14.5  0.0   0.0\n",
      "\n",
      "sel_pvalues\n",
      "----------------------------------------\n",
      "num                    1           2          3      \n",
      "kind                cpgs  genes cpgs genes cpgs genes\n",
      "cluster score                                        \n",
      "ref1    recovery   100.0  100.0  0.0   0.0  0.0   0.0\n",
      "        relevance   12.4    6.4  0.0   0.0  0.0   0.0\n",
      "ref2    recovery   100.0  100.0  0.0   0.0  0.0   0.0\n",
      "        relevance   13.2   10.7  0.0   0.0  0.0   0.0\n",
      "\n",
      "orig_pcc\n",
      "----------------------------------------\n",
      "num                   1           2           3      \n",
      "kind               cpgs genes  cpgs genes  cpgs genes\n",
      "cluster score                                        \n",
      "ref1    recovery   20.6  12.4  14.3  87.6  65.1   0.0\n",
      "        relevance   6.4   1.7   6.1  17.8  25.9   0.0\n",
      "ref2    recovery   58.2  39.1  24.8  26.6  17.0  34.3\n",
      "        relevance  19.0   9.0  11.2   9.1   7.1  13.5\n",
      "\n",
      "sel_pcc\n",
      "----------------------------------------\n"
     ]
    },
    {
     "name": "stderr",
     "output_type": "stream",
     "text": [
      "/Users/severinlangberg/anaconda/lib/python3.6/site-packages/ipykernel/__main__.py:14: RuntimeWarning: invalid value encountered in long_scalars\n"
     ]
    },
    {
     "name": "stdout",
     "output_type": "stream",
     "text": [
      "num                   1           2           3      \n",
      "kind               cpgs genes  cpgs genes  cpgs genes\n",
      "cluster score                                        \n",
      "ref1    recovery   53.5   0.0  46.5  99.4   0.0   0.6\n",
      "        relevance  96.7   NaN   6.6   6.2   0.0   1.3\n",
      "ref2    recovery    0.0   0.0  59.5  76.0  40.5  24.0\n",
      "        relevance   0.1   NaN   8.9   8.0  87.9  85.5\n",
      "\n"
     ]
    }
   ],
   "source": [
    "for label in ref_labels:\n",
    "    print('{0}\\n{1}'.format(label, '-' * 40))\n",
    "    print(compare_clusters(sk_biclusters[label], ref_clusters))\n",
    "    print()"
   ]
  },
  {
   "cell_type": "markdown",
   "metadata": {},
   "source": [
    "### Visualization"
   ]
  },
  {
   "cell_type": "code",
   "execution_count": null,
   "metadata": {
    "collapsed": true
   },
   "outputs": [],
   "source": []
  },
  {
   "cell_type": "code",
   "execution_count": null,
   "metadata": {
    "collapsed": true
   },
   "outputs": [],
   "source": []
  },
  {
   "cell_type": "code",
   "execution_count": null,
   "metadata": {
    "collapsed": true
   },
   "outputs": [],
   "source": []
  },
  {
   "cell_type": "markdown",
   "metadata": {},
   "source": [
    "## Models: R"
   ]
  },
  {
   "cell_type": "code",
   "execution_count": 134,
   "metadata": {
    "collapsed": true
   },
   "outputs": [],
   "source": [
    "# Collect pickled wrapped R models\n",
    "path_to_rmodels = [\n",
    "    './../model_dumps/r_orig_prep_pcc.pkl',\n",
    "    './../model_dumps/r_sel_prep_pvalues.pkl',\n",
    "    './../model_dumps/r_orig_prep_pcc.pkl',\n",
    "    './../model_dumps/r_sel_prep_pcc.pkl',\n",
    "]\n",
    "r_models = fetch_models(path_to_rmodels, ref_labels)"
   ]
  },
  {
   "cell_type": "code",
   "execution_count": 135,
   "metadata": {
    "collapsed": true
   },
   "outputs": [],
   "source": [
    "for name, model in r_models.items():\n",
    "    # NOTE: Convert <pandas.DataFrame> to <numpy.ndarray>\n",
    "    model.fit(ref_data[name].values)"
   ]
  },
  {
   "cell_type": "code",
   "execution_count": 136,
   "metadata": {
    "collapsed": true
   },
   "outputs": [],
   "source": [
    "# Create Bicluster instances tracking detected clusters \n",
    "r_biclusters = {}\n",
    "for label in ref_labels:\n",
    "    rows = r_models[label].rows_\n",
    "    cols = r_models[label].columns_\n",
    "\n",
    "    assert np.shape(rows)[0] == np.shape(cols)[0]\n",
    "    \n",
    "    r_biclusters[label] = Biclusters(\n",
    "        rows=rows, cols=cols, data=ref_data[label]\n",
    "    )"
   ]
  },
  {
   "cell_type": "markdown",
   "metadata": {},
   "source": [
    "### Bicluster statistics"
   ]
  },
  {
   "cell_type": "code",
   "execution_count": 145,
   "metadata": {},
   "outputs": [
    {
     "name": "stdout",
     "output_type": "stream",
     "text": [
      "orig_pvalues\n",
      "----------------------------------------\n",
      "          max       min  rel_size       std  zeros\n",
      "num                                               \n",
      "0    2.886458  0.000004  0.001305  0.330803    0.0\n",
      "1    2.651763  0.000014  0.000695  0.334991    0.0\n",
      "\n",
      "sel_pvalues\n",
      "----------------------------------------\n",
      "     max  min  rel_size  std       zeros\n",
      "num                                     \n",
      "0    0.0  0.0  0.471879  0.0  34646520.0\n",
      "1    0.0  0.0  0.067740  0.0   4973617.0\n",
      "\n",
      "orig_pcc\n",
      "----------------------------------------\n",
      "          max       min  rel_size      std  zeros\n",
      "num                                              \n",
      "0    0.852443 -0.866965       1.0  0.32326    0.0\n",
      "\n",
      "sel_pcc\n",
      "----------------------------------------\n",
      "          max       min  rel_size      std       zeros\n",
      "num                                                   \n",
      "0    0.852443 -0.866965       1.0  0.06393  72682896.0\n",
      "\n"
     ]
    }
   ],
   "source": [
    "for label in ref_labels:\n",
    "    print('{0}\\n{1}'.format(label, '-' * 40))\n",
    "    print(r_biclusters[label].stats)\n",
    "    print()"
   ]
  },
  {
   "cell_type": "code",
   "execution_count": null,
   "metadata": {
    "collapsed": true
   },
   "outputs": [],
   "source": []
  },
  {
   "cell_type": "code",
   "execution_count": null,
   "metadata": {
    "collapsed": true
   },
   "outputs": [],
   "source": []
  },
  {
   "cell_type": "code",
   "execution_count": null,
   "metadata": {
    "collapsed": true
   },
   "outputs": [],
   "source": []
  },
  {
   "cell_type": "code",
   "execution_count": null,
   "metadata": {
    "collapsed": true
   },
   "outputs": [],
   "source": []
  },
  {
   "cell_type": "code",
   "execution_count": null,
   "metadata": {
    "collapsed": true
   },
   "outputs": [],
   "source": [
    "# NOTE: Can be wrapped into loop for multiple predictions.\n",
    "def predict(model, data):\n",
    "    \"\"\"Predict biclusters from a dataset.\"\"\"\n",
    "        \n",
    "    # Fit model to data to determine biclusters.        \n",
    "    model.fit(data)\n",
    "    \n",
    "    # Reconstruct data matrices by sorting data according to\n",
    "    # predicted biclusters.\n",
    "    sorted_col_ids = np.argsort(model.column_labels_)\n",
    "    row_sort_array = data[np.argsort(model.row_labels_)]\n",
    "    return row_sort_array[:, sorted_col_ids]"
   ]
  },
  {
   "cell_type": "code",
   "execution_count": null,
   "metadata": {
    "collapsed": true
   },
   "outputs": [],
   "source": [
    "def gen_graphics(data, title, out_path):\n",
    "    \"\"\"Generate a heatmap and save figure to disk.\"\"\"\n",
    "    \n",
    "    plt.figure(figsize=(10, 10))\n",
    "    plt.title(title)\n",
    "    sns.heatmap(\n",
    "        data, robust=True, \n",
    "        cmap=plt.cm.RdBu_r, fmt='f', \n",
    "        vmin=np.min(data), vmax=np.max(data),\n",
    "    )\n",
    "    plt.axis('off')\n",
    "    plt.tight_layout()\n",
    "    plt.savefig(out_path)\n",
    "    \n",
    "    return None"
   ]
  },
  {
   "cell_type": "code",
   "execution_count": null,
   "metadata": {
    "collapsed": true
   },
   "outputs": [],
   "source": [
    "# NOTE: Pass trained models with rows_ and cols_ attribtues.\n",
    "def collect_cluster_members(models, references, ref_data):\n",
    "    \"\"\"Determine biclsuter row and column indicators, and collect\n",
    "    bicluster gene and CpG members.\"\"\"\n",
    "    \n",
    "    # Collect bicluster indicators for each detected bicluster.\n",
    "    biclusters = {}\n",
    "    for name, model in models.items():\n",
    "        biclusters[name] = cluster_indices(\n",
    "            model.rows_, model.columns_\n",
    "        )\n",
    "    # Convert cluster indices to cpG and gene labels.\n",
    "    cluster_members = {}\n",
    "    # For each class of reference data\n",
    "    for data_class in references:\n",
    "        # For each bicluster detected in reference data\n",
    "        cluster_members[data_class] = {}\n",
    "        for cluster_num, bicluster in enumerate(biclusters[data_class]):\n",
    "            # Extract labels by indicator indexing.\n",
    "            cluster_members[data_class][cluster_num] = {\n",
    "                'cpgs': list(ref_data[data_class].index[bicluster[0]]),\n",
    "                'genes': list(ref_data[data_class].columns[bicluster[1]])\n",
    "            }\n",
    "            \n",
    "    return cluster_members"
   ]
  },
  {
   "cell_type": "code",
   "execution_count": null,
   "metadata": {
    "collapsed": true
   },
   "outputs": [],
   "source": [
    "def preds_to_disk(refs, clusters, model, parent='./../predictions/'):\n",
    "    \"\"\"Generate txt files containing row and column indicators for \n",
    "    detected biclusters associated with different datasets.\"\"\"\n",
    "    \n",
    "    for ref_label in refs:\n",
    "\n",
    "        stem = '{0}_biclusters_{1}.txt'.format(model, ref_label)\n",
    "        with open(os.path.join(parent, stem), 'w') as outfile:   \n",
    "            outfile.write('biclusters_{0}\\n'.format(ref_label))\n",
    "\n",
    "            for cluster_num, coords in clusters[ref_label].items():\n",
    "                outfile.write('cluster_num_{0}\\n'.format(cluster_num))\n",
    "                outfile.write('{0}\\n'.format(coords['cpgs']))\n",
    "                outfile.write('{0}\\n'.format(coords['genes']))\n",
    "    \n",
    "    return None"
   ]
  },
  {
   "cell_type": "code",
   "execution_count": null,
   "metadata": {
    "collapsed": true
   },
   "outputs": [],
   "source": [
    "def cluster_quality(biclusters):\n",
    "    \"\"\"Compute a metric to determine quality of biclusters.\"\"\"\n",
    "    \n",
    "    #for cluster in biclusters:\n",
    "    #    \n",
    "    pass"
   ]
  },
  {
   "cell_type": "code",
   "execution_count": null,
   "metadata": {
    "collapsed": true
   },
   "outputs": [],
   "source": [
    "def cluster_similarity_score(true, pred):\n",
    "    \"\"\"Determines percentage of pred items in true.\"\"\"\n",
    "    \n",
    "    return np.isin(pred, true).sum() / np.size(true)"
   ]
  },
  {
   "cell_type": "code",
   "execution_count": null,
   "metadata": {
    "collapsed": true
   },
   "outputs": [],
   "source": [
    "def cluster_stats(biclusters):\n",
    "    \"\"\"Compute max, min and std for a collection of \n",
    "    biclusters.\"\"\"\n",
    "    \n",
    "    # Collect Statistical \n",
    "    #_cluster_stats = {}\n",
    "    #for name, cluster in biclusters.items():\n",
    "    #    _cluster_stats[num] = {\n",
    "    #        'max': np.max(cluster), \n",
    "    #        'min': np.min(cluster),\n",
    "    #        'std': np.std(cluster)\n",
    "    #}\n",
    "    #df_stats = pd.DataFrame(\n",
    "    #    _cluster_stats, columns=['max', 'min', 'std']\n",
    "    #)\n",
    "    #df_stats.index = list(bicluster.keys())\n",
    "    pass"
   ]
  },
  {
   "cell_type": "code",
   "execution_count": null,
   "metadata": {
    "collapsed": true
   },
   "outputs": [],
   "source": []
  },
  {
   "cell_type": "markdown",
   "metadata": {},
   "source": [
    "## Clustering reference data\n",
    "\n",
    "Applying the selected biclustering algorithms to the reference data, reconstructing and visualizing the results, selecting the bicluster members and writing the results to disk.\n",
    "\n",
    "### Source: scikit-learn"
   ]
  },
  {
   "cell_type": "code",
   "execution_count": null,
   "metadata": {
    "collapsed": true
   },
   "outputs": [],
   "source": []
  },
  {
   "cell_type": "code",
   "execution_count": null,
   "metadata": {
    "collapsed": true
   },
   "outputs": [],
   "source": [
    "sk_models"
   ]
  },
  {
   "cell_type": "code",
   "execution_count": null,
   "metadata": {
    "collapsed": true
   },
   "outputs": [],
   "source": []
  },
  {
   "cell_type": "code",
   "execution_count": null,
   "metadata": {
    "collapsed": true
   },
   "outputs": [],
   "source": [
    "r_models"
   ]
  },
  {
   "cell_type": "code",
   "execution_count": null,
   "metadata": {
    "collapsed": true
   },
   "outputs": [],
   "source": [
    "# Reconstruct data matrices by sorting data according to\n",
    "# predicted biclusters.\n",
    "reconstr_data = {}\n",
    "for ref_class in ref_labels:\n",
    "    # Extract fitted model\n",
    "    model = sk_clfs[ref_class]\n",
    "    # Sort reference data\n",
    "    _data = ref_data[ref_class].values\n",
    "    _fit_data = _data[np.argsort(model.row_labels_)]\n",
    "    _sorted_col_ids = np.argsort(model.column_labels_)\n",
    "    reconstr_data[ref_class] = _fit_data[:, _sorted_col_ids]"
   ]
  },
  {
   "cell_type": "markdown",
   "metadata": {},
   "source": [
    "### Mining Bonferroni corrected p-value"
   ]
  },
  {
   "cell_type": "code",
   "execution_count": null,
   "metadata": {
    "collapsed": true
   },
   "outputs": [],
   "source": [
    "gen_graphics(\n",
    "    reconstr_data[ref_labels[0]],\n",
    "    'Biclustering results of preprocessed\\n'\n",
    "    'Bonferroni corrected p-values', \n",
    "    './../predictions/imgs/org_prep_pvalues.png'\n",
    ")"
   ]
  },
  {
   "cell_type": "markdown",
   "metadata": {},
   "source": [
    "### Mining selected Bonferroni corrected p-values\n",
    "\n",
    "Goal: Try to recreate the clusters and compare the contents to paper results."
   ]
  },
  {
   "cell_type": "code",
   "execution_count": null,
   "metadata": {
    "collapsed": true
   },
   "outputs": [],
   "source": [
    "model = sk_clfs['sel_pvalues']\n",
    "model.n_clusters = 2\n",
    "\n",
    "reconstr_data = predict(\n",
    "    sk_clfs['sel_pvalues'], \n",
    "    ref_data['sel_pvalues'].values\n",
    ")"
   ]
  },
  {
   "cell_type": "code",
   "execution_count": null,
   "metadata": {
    "collapsed": true
   },
   "outputs": [],
   "source": [
    "gen_graphics(\n",
    "    reconstr_data,\n",
    "    'Biclustering results of selected preprocessed\\n'\n",
    "    'Bonferroni corrected p-values', \n",
    "    './../../predictions/imgs/sel_prep_pvalues.png'\n",
    ")"
   ]
  },
  {
   "cell_type": "code",
   "execution_count": null,
   "metadata": {
    "collapsed": true
   },
   "outputs": [],
   "source": [
    "gen_graphics(\n",
    "    reconstr_data[ref_labels[2]],\n",
    "    'Biclustering results of preprocessed\\n'\n",
    "    'Pearson`s correlation coefficients', \n",
    "    './../predictions/imgs/org_prep_pcc.png'\n",
    ")"
   ]
  },
  {
   "cell_type": "code",
   "execution_count": null,
   "metadata": {
    "collapsed": true
   },
   "outputs": [],
   "source": [
    "gen_graphics(\n",
    "    reconstr_data[ref_labels[3]],\n",
    "    'Biclustering results of selected preprocessed\\n'\n",
    "    'Pearson`s correlation coefficients', \n",
    "    './../predictions/imgs/sel_prep_pcc.png'\n",
    ")"
   ]
  },
  {
   "cell_type": "code",
   "execution_count": null,
   "metadata": {
    "collapsed": true
   },
   "outputs": [],
   "source": [
    "# Fetch bicluster indicators for each detected bicluster\n",
    "# stored as attributes in fitted models.\n",
    "sk_biclusters_ = {}\n",
    "for name, model in sk_clfs.items():\n",
    "    sk_biclusters_[name] = cluster_indices(\n",
    "        model.rows_, model.columns_\n",
    "    )"
   ]
  },
  {
   "cell_type": "code",
   "execution_count": null,
   "metadata": {
    "collapsed": true
   },
   "outputs": [],
   "source": [
    "# Convert cluster indices to cpG and gene labels for each class \n",
    "# of reference data, and write results to disk.\n",
    "sk_cluster_members = collect_cluster_members(\n",
    "    sk_clfs, ref_labels, ref_data\n",
    ")\n",
    "preds_to_disk(ref_labels, sk_cluster_members, model='sk')"
   ]
  },
  {
   "cell_type": "markdown",
   "metadata": {},
   "source": [
    "### Source: R"
   ]
  },
  {
   "cell_type": "code",
   "execution_count": null,
   "metadata": {
    "collapsed": true
   },
   "outputs": [],
   "source": [
    "# Collect pickled R models\n",
    "\n",
    "r_clf_paths = [\n",
    "    './../model_dumps/r_orig_prep_pvalues.pkl',\n",
    "    './../model_dumps/r_sel_prep_pvalues.pkl',\n",
    "    './../model_dumps/r_orig_prep_pcc.pkl',\n",
    "    './../model_dumps/r_sel_prep_pcc.pkl',\n",
    "]\n",
    "\n",
    "r_clfs = collect_clfs(r_clf_paths, ref_labels)"
   ]
  },
  {
   "cell_type": "code",
   "execution_count": null,
   "metadata": {
    "collapsed": true
   },
   "outputs": [],
   "source": [
    "# Fit model to data producing cluster estiamtes.\n",
    "for num, (_, model) in enumerate(r_clfs.items()):\n",
    "    # NOTE: Ref data is <dict> (converting to <ndarray>)\n",
    "    model.fit(list(ref_data.values())[num].values)"
   ]
  },
  {
   "cell_type": "code",
   "execution_count": null,
   "metadata": {
    "collapsed": true
   },
   "outputs": [],
   "source": [
    "# TODO: Visualizing results (use R tools)"
   ]
  },
  {
   "cell_type": "code",
   "execution_count": null,
   "metadata": {
    "collapsed": true
   },
   "outputs": [],
   "source": [
    "# Convert cluster indices to cpG and gene labels for each class \n",
    "# of reference data, and write results to disk.\n",
    "r_cluster_members = collect_cluster_members(\n",
    "    r_clfs, references, ref_data\n",
    ")\n",
    "\n",
    "preds_to_disk(references, r_cluster_members, model='r')"
   ]
  },
  {
   "cell_type": "markdown",
   "metadata": {},
   "source": [
    "### Source: Binary"
   ]
  },
  {
   "cell_type": "markdown",
   "metadata": {},
   "source": [
    "## Enrichment analysis"
   ]
  },
  {
   "cell_type": "code",
   "execution_count": null,
   "metadata": {
    "collapsed": true
   },
   "outputs": [],
   "source": [
    "# TODO: Checkout BiBench"
   ]
  }
 ],
 "metadata": {
  "kernelspec": {
   "display_name": "Python [conda env:anaconda]",
   "language": "python",
   "name": "conda-env-anaconda-py"
  },
  "language_info": {
   "codemirror_mode": {
    "name": "ipython",
    "version": 3
   },
   "file_extension": ".py",
   "mimetype": "text/x-python",
   "name": "python",
   "nbconvert_exporter": "python",
   "pygments_lexer": "ipython3",
   "version": "3.6.3"
  }
 },
 "nbformat": 4,
 "nbformat_minor": 2
}
