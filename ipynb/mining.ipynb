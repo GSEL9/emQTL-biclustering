{
 "cells": [
  {
   "cell_type": "markdown",
   "metadata": {},
   "source": [
    "# Mining of experimental data\n",
    "\n",
    "ToDO:\n",
    "\n",
    "* For each detected bicluster:\n",
    "    * check percentage cpgs in target cpgs1, and target cpgs2\n",
    "    * check percentage genes in target genes1, and target genes2\n",
    "    * check bicluster size against target cluster sizes"
   ]
  },
  {
   "cell_type": "code",
   "execution_count": null,
   "metadata": {
    "collapsed": true
   },
   "outputs": [],
   "source": [
    "import os\n",
    "import ast\n",
    "\n",
    "import numpy as np\n",
    "import pandas as pd\n",
    "import seaborn as sns\n",
    "import matplotlib.pyplot as plt\n",
    "\n",
    "from sklearn.externals import joblib\n",
    "\n",
    "plt.rcParams['font.size'] = 16\n",
    "plt.rcParams['axes.facecolor'] = 'white'\n",
    "\n",
    "# Setting non-interactive backend.\n",
    "#matplotlib.use('Agg')\n",
    "\n",
    "%matplotlib inline"
   ]
  },
  {
   "cell_type": "code",
   "execution_count": null,
   "metadata": {
    "collapsed": true
   },
   "outputs": [],
   "source": [
    "def collect_clfs(clf_paths, refs):\n",
    "    \"\"\"Read model dumps from disk.\"\"\"\n",
    "    \n",
    "    models = {}\n",
    "    for num, clf_path in enumerate(clf_paths):\n",
    "        models[refs[num]] = joblib.load(clf_path) \n",
    "        \n",
    "    return models"
   ]
  },
  {
   "cell_type": "code",
   "execution_count": null,
   "metadata": {
    "collapsed": true
   },
   "outputs": [],
   "source": [
    "def cluster_indices(row_mat, col_mat):\n",
    "    \"\"\"Determine row and column indicators for each \n",
    "    bicluster.\"\"\"\n",
    "\n",
    "    num_biclusters = row_mat.shape[0]\n",
    "\n",
    "    biclusters = []\n",
    "    for cluster_num in range(num_biclusters):\n",
    "        \n",
    "        rows_bools = row_mat[cluster_num, :] != 0\n",
    "        cols_bools = col_mat[cluster_num, :] != 0\n",
    "\n",
    "        rows = [index for index, elt in enumerate(rows_bools) if elt]\n",
    "        cols = [index for index, elt in enumerate(cols_bools) if elt]\n",
    "\n",
    "        biclusters.append((rows, cols))\n",
    "\n",
    "    return biclusters"
   ]
  },
  {
   "cell_type": "code",
   "execution_count": null,
   "metadata": {
    "collapsed": true
   },
   "outputs": [],
   "source": [
    "# NOTE: Can be wrapped into loop for multiple predictions.\n",
    "def predict(model, data):\n",
    "    \"\"\"Predict biclusters from a dataset.\"\"\"\n",
    "        \n",
    "    # Fit model to data to determine biclusters.        \n",
    "    model.fit(data)\n",
    "    \n",
    "    # Reconstruct data matrices by sorting data according to\n",
    "    # predicted biclusters.\n",
    "    sorted_col_ids = np.argsort(model.column_labels_)\n",
    "    row_sort_array = data[np.argsort(model.row_labels_)]\n",
    "    return row_sort_array[:, sorted_col_ids]"
   ]
  },
  {
   "cell_type": "code",
   "execution_count": null,
   "metadata": {
    "collapsed": true
   },
   "outputs": [],
   "source": [
    "def gen_graphics(data, title, out_path):\n",
    "    \"\"\"Generate a heatmap and save figure to disk.\"\"\"\n",
    "    \n",
    "    plt.figure(figsize=(10, 10))\n",
    "    plt.title(title)\n",
    "    sns.heatmap(\n",
    "        data, robust=True, \n",
    "        cmap=plt.cm.RdBu_r, fmt='f', \n",
    "        vmin=np.min(data), vmax=np.max(data),\n",
    "    )\n",
    "    plt.axis('off')\n",
    "    plt.tight_layout()\n",
    "    plt.savefig(out_path)\n",
    "    \n",
    "    return None"
   ]
  },
  {
   "cell_type": "code",
   "execution_count": null,
   "metadata": {
    "collapsed": true
   },
   "outputs": [],
   "source": [
    "# NOTE: Pass trained models with rows_ and cols_ attribtues.\n",
    "def collect_cluster_members(models, references, ref_data):\n",
    "    \"\"\"Determine biclsuter row and column indicators, and collect\n",
    "    bicluster gene and CpG members.\"\"\"\n",
    "    \n",
    "    # Collect bicluster indicators for each detected bicluster.\n",
    "    biclusters = {}\n",
    "    for name, model in models.items():\n",
    "        biclusters[name] = cluster_indices(\n",
    "            model.rows_, model.columns_\n",
    "        )\n",
    "    # Convert cluster indices to cpG and gene labels.\n",
    "    cluster_members = {}\n",
    "    # For each class of reference data\n",
    "    for data_class in references:\n",
    "        # For each bicluster detected in reference data\n",
    "        cluster_members[data_class] = {}\n",
    "        for cluster_num, bicluster in enumerate(biclusters[data_class]):\n",
    "            # Extract labels by indicator indexing.\n",
    "            cluster_members[data_class][cluster_num] = {\n",
    "                'cpgs': list(ref_data[data_class].index[bicluster[0]]),\n",
    "                'genes': list(ref_data[data_class].columns[bicluster[1]])\n",
    "            }\n",
    "            \n",
    "    return cluster_members"
   ]
  },
  {
   "cell_type": "code",
   "execution_count": null,
   "metadata": {
    "collapsed": true
   },
   "outputs": [],
   "source": [
    "def preds_to_disk(refs, clusters, model, parent='./../predictions/'):\n",
    "    \"\"\"Generate txt files containing row and column indicators for \n",
    "    detected biclusters associated with different datasets.\"\"\"\n",
    "    \n",
    "    for ref_label in refs:\n",
    "\n",
    "        stem = '{0}_biclusters_{1}.txt'.format(model, ref_label)\n",
    "        with open(os.path.join(parent, stem), 'w') as outfile:   \n",
    "            outfile.write('biclusters_{0}\\n'.format(ref_label))\n",
    "\n",
    "            for cluster_num, coords in clusters[ref_label].items():\n",
    "                outfile.write('cluster_num_{0}\\n'.format(cluster_num))\n",
    "                outfile.write('{0}\\n'.format(coords['cpgs']))\n",
    "                outfile.write('{0}\\n'.format(coords['genes']))\n",
    "    \n",
    "    return None"
   ]
  },
  {
   "cell_type": "code",
   "execution_count": null,
   "metadata": {
    "collapsed": true
   },
   "outputs": [],
   "source": [
    "def cluster_quality(biclusters):\n",
    "    \"\"\"Compute a metric to determine quality of biclusters.\"\"\"\n",
    "    \n",
    "    #for cluster in biclusters:\n",
    "    #    \n",
    "    pass"
   ]
  },
  {
   "cell_type": "code",
   "execution_count": null,
   "metadata": {
    "collapsed": true
   },
   "outputs": [],
   "source": [
    "def cluster_similarity_score(true, pred):\n",
    "    \"\"\"Determines percentage of pred items in true.\"\"\"\n",
    "    \n",
    "    return np.isin(pred, true).sum() / np.size(true)"
   ]
  },
  {
   "cell_type": "code",
   "execution_count": null,
   "metadata": {
    "collapsed": true
   },
   "outputs": [],
   "source": [
    "def cluster_stats(biclusters):\n",
    "    \"\"\"Compute max, min and std for a collection of \n",
    "    biclusters.\"\"\"\n",
    "    \n",
    "    # Collect Statistical \n",
    "    #_cluster_stats = {}\n",
    "    #for name, cluster in biclusters.items():\n",
    "    #    _cluster_stats[num] = {\n",
    "    #        'max': np.max(cluster), \n",
    "    #        'min': np.min(cluster),\n",
    "    #        'std': np.std(cluster)\n",
    "    #}\n",
    "    #df_stats = pd.DataFrame(\n",
    "    #    _cluster_stats, columns=['max', 'min', 'std']\n",
    "    #)\n",
    "    #df_stats.index = list(bicluster.keys())\n",
    "    pass"
   ]
  },
  {
   "cell_type": "code",
   "execution_count": null,
   "metadata": {},
   "outputs": [],
   "source": [
    "ref_labels = [\n",
    "    'orig_pvalues', 'sel_pvalues','orig_pcc', 'sel_pcc'\n",
    "]\n",
    "# Read experimental data\n",
    "ref_data = {\n",
    "    ref_labels[0]: pd.read_csv(\n",
    "        './../../data/train/orig_pvalues_prep.csv', sep=',', index_col=0\n",
    "    ),\n",
    "    # NOTE: Transposing to original shape.\n",
    "    ref_labels[1]: pd.read_csv(\n",
    "        './../../data/train/sel_pvalues_prep.csv', sep=',', index_col=0\n",
    "    ).T,\n",
    "    ref_labels[2]: pd.read_csv(\n",
    "        './../../data/train/orig_pcc_prep.csv', sep=',', index_col=0\n",
    "    ),\n",
    "    # NOTE: Transposing to original shape.\n",
    "    ref_labels[3]: pd.read_csv(\n",
    "        './../../data/train/sel_pcc_prep.csv', sep=',', index_col=0\n",
    "    ).T,\n",
    "}"
   ]
  },
  {
   "cell_type": "markdown",
   "metadata": {},
   "source": [
    "## Clustering reference data\n",
    "\n",
    "Applying the selected biclustering algorithms to the reference data, reconstructing and visualizing the results, selecting the bicluster members and writing the results to disk.\n",
    "\n",
    "### Source: scikit-learn"
   ]
  },
  {
   "cell_type": "code",
   "execution_count": null,
   "metadata": {},
   "outputs": [],
   "source": [
    "# Collect pickled scikit-learn models\n",
    "sk_clf_paths = [\n",
    "    './../../model_dumps/sk_orig_prep_pvalues.pkl',\n",
    "    './../../model_dumps/sk_sel_prep_pvalues.pkl',\n",
    "    './../../model_dumps/sk_orig_prep_pcc.pkl',\n",
    "    './../../model_dumps/sk_sel_prep_pcc.pkl',\n",
    "]\n",
    "sk_clfs = collect_clfs(sk_clf_paths, ref_labels)"
   ]
  },
  {
   "cell_type": "code",
   "execution_count": null,
   "metadata": {
    "collapsed": true
   },
   "outputs": [],
   "source": [
    "# Reconstruct data matrices by sorting data according to\n",
    "# predicted biclusters.\n",
    "reconstr_data = {}\n",
    "for ref_class in ref_labels:\n",
    "    # Extract fitted model\n",
    "    model = sk_clfs[ref_class]\n",
    "    # Sort reference data\n",
    "    _data = ref_data[ref_class].values\n",
    "    _fit_data = _data[np.argsort(model.row_labels_)]\n",
    "    _sorted_col_ids = np.argsort(model.column_labels_)\n",
    "    reconstr_data[ref_class] = _fit_data[:, _sorted_col_ids]"
   ]
  },
  {
   "cell_type": "markdown",
   "metadata": {},
   "source": [
    "### Mining Bonferroni corrected p-value"
   ]
  },
  {
   "cell_type": "code",
   "execution_count": null,
   "metadata": {},
   "outputs": [],
   "source": [
    "gen_graphics(\n",
    "    reconstr_data[ref_labels[0]],\n",
    "    'Biclustering results of preprocessed\\n'\n",
    "    'Bonferroni corrected p-values', \n",
    "    './../predictions/imgs/org_prep_pvalues.png'\n",
    ")"
   ]
  },
  {
   "cell_type": "markdown",
   "metadata": {},
   "source": [
    "### Mining selected Bonferroni corrected p-values\n",
    "\n",
    "Goal: Try to recreate the clusters and compare the contents to paper results."
   ]
  },
  {
   "cell_type": "code",
   "execution_count": null,
   "metadata": {
    "collapsed": true
   },
   "outputs": [],
   "source": [
    "model = sk_clfs['sel_pvalues']\n",
    "model.n_clusters = 2\n",
    "\n",
    "reconstr_data = predict(\n",
    "    sk_clfs['sel_pvalues'], \n",
    "    ref_data['sel_pvalues'].values\n",
    ")"
   ]
  },
  {
   "cell_type": "code",
   "execution_count": null,
   "metadata": {},
   "outputs": [],
   "source": [
    "gen_graphics(\n",
    "    reconstr_data,\n",
    "    'Biclustering results of selected preprocessed\\n'\n",
    "    'Bonferroni corrected p-values', \n",
    "    './../../predictions/imgs/sel_prep_pvalues.png'\n",
    ")"
   ]
  },
  {
   "cell_type": "code",
   "execution_count": null,
   "metadata": {},
   "outputs": [],
   "source": [
    "gen_graphics(\n",
    "    reconstr_data[ref_labels[2]],\n",
    "    'Biclustering results of preprocessed\\n'\n",
    "    'Pearson`s correlation coefficients', \n",
    "    './../predictions/imgs/org_prep_pcc.png'\n",
    ")"
   ]
  },
  {
   "cell_type": "code",
   "execution_count": null,
   "metadata": {},
   "outputs": [],
   "source": [
    "gen_graphics(\n",
    "    reconstr_data[ref_labels[3]],\n",
    "    'Biclustering results of selected preprocessed\\n'\n",
    "    'Pearson`s correlation coefficients', \n",
    "    './../predictions/imgs/sel_prep_pcc.png'\n",
    ")"
   ]
  },
  {
   "cell_type": "code",
   "execution_count": null,
   "metadata": {
    "collapsed": true
   },
   "outputs": [],
   "source": [
    "# Fetch bicluster indicators for each detected bicluster\n",
    "# stored as attributes in fitted models.\n",
    "sk_biclusters_ = {}\n",
    "for name, model in sk_clfs.items():\n",
    "    sk_biclusters_[name] = cluster_indices(\n",
    "        model.rows_, model.columns_\n",
    "    )"
   ]
  },
  {
   "cell_type": "code",
   "execution_count": null,
   "metadata": {
    "collapsed": true
   },
   "outputs": [],
   "source": [
    "# Convert cluster indices to cpG and gene labels for each class \n",
    "# of reference data, and write results to disk.\n",
    "sk_cluster_members = collect_cluster_members(\n",
    "    sk_clfs, ref_labels, ref_data\n",
    ")\n",
    "preds_to_disk(ref_labels, sk_cluster_members, model='sk')"
   ]
  },
  {
   "cell_type": "markdown",
   "metadata": {},
   "source": [
    "### Source: R"
   ]
  },
  {
   "cell_type": "code",
   "execution_count": null,
   "metadata": {
    "collapsed": true
   },
   "outputs": [],
   "source": [
    "# Collect pickled R models\n",
    "\n",
    "r_clf_paths = [\n",
    "    './../model_dumps/r_orig_prep_pvalues.pkl',\n",
    "    './../model_dumps/r_sel_prep_pvalues.pkl',\n",
    "    './../model_dumps/r_orig_prep_pcc.pkl',\n",
    "    './../model_dumps/r_sel_prep_pcc.pkl',\n",
    "]\n",
    "\n",
    "r_clfs = collect_clfs(r_clf_paths, ref_labels)"
   ]
  },
  {
   "cell_type": "code",
   "execution_count": null,
   "metadata": {
    "collapsed": true
   },
   "outputs": [],
   "source": [
    "# Fit model to data producing cluster estiamtes.\n",
    "for num, (_, model) in enumerate(r_clfs.items()):\n",
    "    # NOTE: Ref data is <dict> (converting to <ndarray>)\n",
    "    model.fit(list(ref_data.values())[num].values)"
   ]
  },
  {
   "cell_type": "code",
   "execution_count": null,
   "metadata": {
    "collapsed": true
   },
   "outputs": [],
   "source": [
    "# TODO: Visualizing results (use R tools)"
   ]
  },
  {
   "cell_type": "code",
   "execution_count": null,
   "metadata": {
    "collapsed": true
   },
   "outputs": [],
   "source": [
    "# Convert cluster indices to cpG and gene labels for each class \n",
    "# of reference data, and write results to disk.\n",
    "r_cluster_members = collect_cluster_members(\n",
    "    r_clfs, references, ref_data\n",
    ")\n",
    "\n",
    "preds_to_disk(references, r_cluster_members, model='r')"
   ]
  },
  {
   "cell_type": "markdown",
   "metadata": {},
   "source": [
    "### Source: Binary"
   ]
  },
  {
   "cell_type": "markdown",
   "metadata": {},
   "source": [
    "## Enrichment analysis"
   ]
  },
  {
   "cell_type": "code",
   "execution_count": null,
   "metadata": {
    "collapsed": true
   },
   "outputs": [],
   "source": [
    "# TODO: Checkout BiBench"
   ]
  }
 ],
 "metadata": {
  "kernelspec": {
   "display_name": "Python [conda env:anaconda]",
   "language": "python",
   "name": "conda-env-anaconda-py"
  },
  "language_info": {
   "codemirror_mode": {
    "name": "ipython",
    "version": 3
   },
   "file_extension": ".py",
   "mimetype": "text/x-python",
   "name": "python",
   "nbconvert_exporter": "python",
   "pygments_lexer": "ipython3",
   "version": "3.6.3"
  }
 },
 "nbformat": 4,
 "nbformat_minor": 2
}
