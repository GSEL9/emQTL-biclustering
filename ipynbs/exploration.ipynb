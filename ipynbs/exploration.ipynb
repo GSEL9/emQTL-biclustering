{
 "cells": [
  {
   "cell_type": "markdown",
   "metadata": {},
   "source": [
    "# Exploration\n",
    "\n",
    "Exploring the raw data with descriptive statistics and density plots."
   ]
  },
  {
   "cell_type": "code",
   "execution_count": 1,
   "metadata": {},
   "outputs": [],
   "source": [
    "import numpy as np\n",
    "import pandas as pd\n",
    "\n",
    "import seaborn as sns\n",
    "import matplotlib.pyplot as plt\n",
    "\n",
    "plt.rcParams['font.size'] = 16\n",
    "plt.rcParams['axes.facecolor'] = 'white'\n",
    "\n",
    "%matplotlib inline"
   ]
  },
  {
   "cell_type": "code",
   "execution_count": 2,
   "metadata": {},
   "outputs": [],
   "source": [
    "def from_disk(path_to_file):\n",
    "    \"\"\"Reads raw .txt data from disk and returns a pandas.DataFrame.\"\"\"\n",
    "    \n",
    "    return pd.read_csv(path_to_file , delim_whitespace=True, index_col=0)"
   ]
  },
  {
   "cell_type": "code",
   "execution_count": 3,
   "metadata": {},
   "outputs": [],
   "source": [
    "def gen_stats(df):\n",
    "    \n",
    "    size = int(df.values.size)\n",
    "    nans = int(np.sum(np.isnan(df.values)))\n",
    "    \n",
    "    output = [\n",
    "        np.max(df.values), \n",
    "        np.min(df.values), \n",
    "        np.std(df.values),\n",
    "        size, nans\n",
    "    ]\n",
    "    \n",
    "    return output"
   ]
  },
  {
   "cell_type": "code",
   "execution_count": 4,
   "metadata": {},
   "outputs": [],
   "source": [
    "def stats_table(datasets, index=None):\n",
    "    \n",
    "    _stats = []\n",
    "    for dataset in datasets:\n",
    "        _stats.append(gen_stats(dataset))\n",
    "        \n",
    "    df = pd.DataFrame(\n",
    "        np.array(_stats), \n",
    "        columns=[\n",
    "            'max', 'min', 'std', 'size', 'nan'\n",
    "        ], \n",
    "        index=index\n",
    "    )\n",
    "    \n",
    "    return df"
   ]
  },
  {
   "cell_type": "code",
   "execution_count": 5,
   "metadata": {},
   "outputs": [],
   "source": [
    "# Load raw data into memory\n",
    "orig_pvalues = from_disk(\n",
    "    # NOTE: Transpose to (CpGs x genes).\n",
    "    './../data/test/emQTL_CorrelationMatrix_unfiltered_pvalues.txt'\n",
    ").T\n",
    "sel_pvalues = from_disk(\n",
    "    './../data/test/emQTL_CorrelationMatrix_significant_pvalues.txt'\n",
    ")\n",
    "orig_pcc = from_disk(\n",
    "    # NOTE: Transpose to (CpGs x genes).\n",
    "    './../data/test/emQTL_CorrelationMatrix_unfiltered_PCCs.txt'\n",
    ").T\n",
    "sel_pcc = from_disk(\n",
    "    './../data/test/emQTL_CorrelationMatrix_significant_PCCs.txt'\n",
    ")"
   ]
  },
  {
   "cell_type": "code",
   "execution_count": 6,
   "metadata": {},
   "outputs": [
    {
     "data": {
      "text/plain": [
       "((27561, 2664), (27561, 2664))"
      ]
     },
     "execution_count": 6,
     "metadata": {},
     "output_type": "execute_result"
    }
   ],
   "source": [
    "np.shape(orig_pvalues), np.shape(sel_pvalues)"
   ]
  },
  {
   "cell_type": "code",
   "execution_count": 7,
   "metadata": {},
   "outputs": [
    {
     "data": {
      "text/plain": [
       "((27561, 2664), (27561, 2664))"
      ]
     },
     "execution_count": 7,
     "metadata": {},
     "output_type": "execute_result"
    }
   ],
   "source": [
    "np.shape(orig_pcc), np.shape(sel_pcc)"
   ]
  },
  {
   "cell_type": "code",
   "execution_count": 8,
   "metadata": {},
   "outputs": [],
   "source": [
    "datasets = {\n",
    "    'org_pvalues': orig_pvalues,\n",
    "    'sel_pvalues': sel_pvalues,\n",
    "    'org_pcc': orig_pcc,\n",
    "    'sel_pcc': sel_pcc\n",
    "}"
   ]
  },
  {
   "cell_type": "code",
   "execution_count": 9,
   "metadata": {},
   "outputs": [
    {
     "name": "stderr",
     "output_type": "stream",
     "text": [
      "/usr/local/lib/python3.6/site-packages/numpy/core/_methods.py:26: RuntimeWarning: invalid value encountered in reduce\n",
      "  return umr_maximum(a, axis, None, out, keepdims)\n",
      "/usr/local/lib/python3.6/site-packages/numpy/core/_methods.py:29: RuntimeWarning: invalid value encountered in reduce\n",
      "  return umr_minimum(a, axis, None, out, keepdims)\n"
     ]
    },
    {
     "name": "stdout",
     "output_type": "stream",
     "text": [
      "Statistics: \n",
      "                  max           min       std        size         nan\n",
      "org_pvalues  1.000000  1.280734e-32  0.225681  73422504.0         0.0\n",
      "sel_pvalues       NaN           NaN       NaN  73422504.0  72682896.0\n",
      "org_pcc      0.852443 -8.669647e-01  0.323260  73422504.0         0.0\n",
      "sel_pcc           NaN           NaN       NaN  73422504.0  72682896.0\n"
     ]
    }
   ],
   "source": [
    "df = stats_table(\n",
    "    list(datasets.values()),\n",
    "    index=list(datasets.keys())\n",
    ")\n",
    "\n",
    "print('Statistics: \\n{}'.format(df))"
   ]
  },
  {
   "cell_type": "markdown",
   "metadata": {},
   "source": [
    "**Observations:**\n",
    "* Contains NaNs"
   ]
  },
  {
   "cell_type": "code",
   "execution_count": 10,
   "metadata": {},
   "outputs": [
    {
     "data": {
      "image/png": "[encoded data removed]",
      "text/plain": [
       "<Figure size 576x432 with 1 Axes>"
      ]
     },
     "metadata": {},
     "output_type": "display_data"
    }
   ],
   "source": [
    "plt.figure(figsize=(8, 6))\n",
    "plt.title('Histogram of original Bonferroni corrected p-values')\n",
    "sns.kdeplot(orig_pvalues.values.ravel(), shade=True)\n",
    "plt.tight_layout()"
   ]
  },
  {
   "cell_type": "code",
   "execution_count": 11,
   "metadata": {},
   "outputs": [
    {
     "data": {
      "image/png": "[encoded data removed]",
      "text/plain": [
       "<Figure size 576x432 with 1 Axes>"
      ]
     },
     "metadata": {},
     "output_type": "display_data"
    }
   ],
   "source": [
    "plt.figure(figsize=(8, 6))\n",
    "plt.title('Histogram of original Pearson`s correlation coefficients')\n",
    "sns.kdeplot(orig_pcc.values.ravel(), shade=True)\n",
    "plt.tight_layout()"
   ]
  },
  {
   "cell_type": "markdown",
   "metadata": {},
   "source": [
    "**NOTE**: Does not visualize data with NaNs."
   ]
  },
  {
   "cell_type": "code",
   "execution_count": null,
   "metadata": {},
   "outputs": [],
   "source": []
  }
 ],
 "metadata": {
  "kernelspec": {
   "display_name": "Python 3",
   "language": "python",
   "name": "python3"
  },
  "language_info": {
   "codemirror_mode": {
    "name": "ipython",
    "version": 3
   },
   "file_extension": ".py",
   "mimetype": "text/x-python",
   "name": "python",
   "nbconvert_exporter": "python",
   "pygments_lexer": "ipython3",
   "version": "3.6.6"
  }
 },
 "nbformat": 4,
 "nbformat_minor": 2
}
