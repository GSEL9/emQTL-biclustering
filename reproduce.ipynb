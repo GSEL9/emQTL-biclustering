{
 "cells": [
  {
   "cell_type": "markdown",
   "metadata": {},
   "source": [
    "# Reproduce\n",
    "\n",
    "* How many true CpGs/genes are included in each detected bicluster?\n",
    "* How many CpGs/genes are found in each detected bicluster, but not part of the target biclsuter?\n",
    "* What is min/max/std of data points of each bicluster (cluster heteroginity)?"
   ]
  },
  {
   "cell_type": "code",
   "execution_count": 1,
   "metadata": {
    "collapsed": true
   },
   "outputs": [],
   "source": [
    "# NOTE: Try Agglomerative algorithm\n",
    "path_ref_data = './../data/train/sel_pvalues_prep.csv'\n",
    "path_target_genes = './../data/test/emQTL_Cluster_genes.txt'\n",
    "path_target_cpgs = './../data/test/emQTL_Clusters_CpGs.txt'"
   ]
  },
  {
   "cell_type": "code",
   "execution_count": 2,
   "metadata": {
    "collapsed": true
   },
   "outputs": [],
   "source": [
    "import ast\n",
    "import algorithms\n",
    "\n",
    "import numpy as np\n",
    "import pandas as pd\n",
    "\n",
    "import seaborn as sns\n",
    "import matplotlib.pyplot as plt\n",
    "\n",
    "from collections import OrderedDict\n",
    "\n",
    "from sklearn.cluster import SpectralBiclustering\n",
    "from sklearn.cluster import SpectralCoclustering\n",
    "\n",
    "%matplotlib inline"
   ]
  },
  {
   "cell_type": "code",
   "execution_count": 3,
   "metadata": {
    "collapsed": true
   },
   "outputs": [],
   "source": [
    "def cluster_similarity_score(true, pred):\n",
    "    \"\"\"Determines percentage of pred items in true.\"\"\"\n",
    "    \n",
    "    return np.isin(pred, true).sum() / np.size(true)"
   ]
  },
  {
   "cell_type": "code",
   "execution_count": 4,
   "metadata": {
    "collapsed": true
   },
   "outputs": [],
   "source": [
    "def cluster_indicators(row_mat, col_mat):\n",
    "    \"\"\"Determine row and column indicators for each \n",
    "    bicluster.\"\"\"\n",
    "\n",
    "    num_biclusters = row_mat.shape[0]\n",
    "\n",
    "    biclusters = []\n",
    "    for cluster_num in range(num_biclusters):\n",
    "        \n",
    "        rows_bools = row_mat[cluster_num, :] != 0\n",
    "        cols_bools = col_mat[cluster_num, :] != 0\n",
    "\n",
    "        rows = [index for index, elt in enumerate(rows_bools) if elt]\n",
    "        cols = [index for index, elt in enumerate(cols_bools) if elt]\n",
    "\n",
    "        biclusters.append((rows, cols))\n",
    "\n",
    "    return biclusters"
   ]
  },
  {
   "cell_type": "code",
   "execution_count": 5,
   "metadata": {
    "collapsed": true
   },
   "outputs": [],
   "source": [
    "def cluster_scores(row_mat, col_mat, target='cpgs'):\n",
    "    \n",
    "    num_biclusters = row_mat.shape[0]\n",
    "\n",
    "    results = {\n",
    "        'cl1_matches': [], 'cl1_superf': [],\n",
    "        'cl2_matches': [], 'cl2_superf': [],\n",
    "    }\n",
    "    for cluster_num in range(num_biclusters):\n",
    "\n",
    "        rows_bools = row_mat[cluster_num, :] != 0\n",
    "        cols_bools = col_mat[cluster_num, :] != 0\n",
    "        if target == 'cpgs':\n",
    "            # Rows\n",
    "            pred = [all_cpgs[index] for index, elt in enumerate(rows_bools) if elt]\n",
    "            true = target_cpgs\n",
    "        elif target == 'genes':\n",
    "            # Cols\n",
    "            pred = [all_genes[index] for index, elt in enumerate(cols_bools) if elt]\n",
    "            true = target_genes\n",
    "        \n",
    "        results['cl1_matches'].append(\n",
    "            cluster_similarity_score(true['1'], pred)\n",
    "        )\n",
    "        results['cl1_superf'].append(\n",
    "            cluster_similarity_score(pred, true['1'])\n",
    "        )\n",
    "        results['cl2_matches'].append(\n",
    "            cluster_similarity_score(true['2'], pred)\n",
    "        )\n",
    "        results['cl2_superf'].append(\n",
    "            cluster_similarity_score(pred, true['2'])\n",
    "        )\n",
    "    output = pd.DataFrame(\n",
    "        results, index=np.arange(num_biclusters) + 1\n",
    "    )\n",
    "    output.index.name = 'bicluster'\n",
    "    \n",
    "    return output"
   ]
  },
  {
   "cell_type": "code",
   "execution_count": 6,
   "metadata": {
    "collapsed": true
   },
   "outputs": [],
   "source": [
    "def bicluster_stats(clusters):\n",
    "    \"\"\"Determine min, max and std in biclsuters.\"\"\"\n",
    "    \n",
    "    pass"
   ]
  },
  {
   "cell_type": "code",
   "execution_count": 7,
   "metadata": {
    "collapsed": true
   },
   "outputs": [],
   "source": [
    "def bicluster_score(clusters):\n",
    "    \"\"\"See silhouette coeffs or other.\"\"\"\n",
    "    pass"
   ]
  },
  {
   "cell_type": "code",
   "execution_count": 8,
   "metadata": {},
   "outputs": [
    {
     "data": {
      "text/html": [
       "<div>\n",
       "<style scoped>\n",
       "    .dataframe tbody tr th:only-of-type {\n",
       "        vertical-align: middle;\n",
       "    }\n",
       "\n",
       "    .dataframe tbody tr th {\n",
       "        vertical-align: top;\n",
       "    }\n",
       "\n",
       "    .dataframe thead th {\n",
       "        text-align: right;\n",
       "    }\n",
       "</style>\n",
       "<table border=\"1\" class=\"dataframe\">\n",
       "  <thead>\n",
       "    <tr style=\"text-align: right;\">\n",
       "      <th></th>\n",
       "      <th>TNFRSF4</th>\n",
       "      <th>MXRA8</th>\n",
       "      <th>ATAD3A</th>\n",
       "      <th>MMP23B</th>\n",
       "      <th>SLC35E2</th>\n",
       "      <th>MORN1</th>\n",
       "      <th>KCNAB2</th>\n",
       "      <th>KLHL21</th>\n",
       "      <th>TNFRSF9</th>\n",
       "      <th>ENO1</th>\n",
       "      <th>...</th>\n",
       "      <th>ATP11C</th>\n",
       "      <th>CXorf40B</th>\n",
       "      <th>MAGEA4</th>\n",
       "      <th>MAGEA12</th>\n",
       "      <th>CETN2</th>\n",
       "      <th>PNMA5</th>\n",
       "      <th>PNMA3</th>\n",
       "      <th>TREX2</th>\n",
       "      <th>ARHGAP4</th>\n",
       "      <th>FLNA</th>\n",
       "    </tr>\n",
       "  </thead>\n",
       "  <tbody>\n",
       "    <tr>\n",
       "      <th>cg00002224</th>\n",
       "      <td>0.0</td>\n",
       "      <td>0.0</td>\n",
       "      <td>0.0</td>\n",
       "      <td>0.0</td>\n",
       "      <td>0.0</td>\n",
       "      <td>0.0</td>\n",
       "      <td>0.0</td>\n",
       "      <td>0.0</td>\n",
       "      <td>0.0</td>\n",
       "      <td>0.0</td>\n",
       "      <td>...</td>\n",
       "      <td>0.0</td>\n",
       "      <td>0.0</td>\n",
       "      <td>0.0</td>\n",
       "      <td>0.0</td>\n",
       "      <td>0.0</td>\n",
       "      <td>0.0</td>\n",
       "      <td>0.0</td>\n",
       "      <td>0.0</td>\n",
       "      <td>0.0</td>\n",
       "      <td>0.0</td>\n",
       "    </tr>\n",
       "    <tr>\n",
       "      <th>cg00002426</th>\n",
       "      <td>0.0</td>\n",
       "      <td>0.0</td>\n",
       "      <td>0.0</td>\n",
       "      <td>0.0</td>\n",
       "      <td>0.0</td>\n",
       "      <td>0.0</td>\n",
       "      <td>0.0</td>\n",
       "      <td>0.0</td>\n",
       "      <td>0.0</td>\n",
       "      <td>0.0</td>\n",
       "      <td>...</td>\n",
       "      <td>0.0</td>\n",
       "      <td>0.0</td>\n",
       "      <td>0.0</td>\n",
       "      <td>0.0</td>\n",
       "      <td>0.0</td>\n",
       "      <td>0.0</td>\n",
       "      <td>0.0</td>\n",
       "      <td>0.0</td>\n",
       "      <td>0.0</td>\n",
       "      <td>0.0</td>\n",
       "    </tr>\n",
       "    <tr>\n",
       "      <th>cg00002593</th>\n",
       "      <td>0.0</td>\n",
       "      <td>0.0</td>\n",
       "      <td>0.0</td>\n",
       "      <td>0.0</td>\n",
       "      <td>0.0</td>\n",
       "      <td>0.0</td>\n",
       "      <td>0.0</td>\n",
       "      <td>0.0</td>\n",
       "      <td>0.0</td>\n",
       "      <td>0.0</td>\n",
       "      <td>...</td>\n",
       "      <td>0.0</td>\n",
       "      <td>0.0</td>\n",
       "      <td>0.0</td>\n",
       "      <td>0.0</td>\n",
       "      <td>0.0</td>\n",
       "      <td>0.0</td>\n",
       "      <td>0.0</td>\n",
       "      <td>0.0</td>\n",
       "      <td>0.0</td>\n",
       "      <td>0.0</td>\n",
       "    </tr>\n",
       "    <tr>\n",
       "      <th>cg00002719</th>\n",
       "      <td>0.0</td>\n",
       "      <td>0.0</td>\n",
       "      <td>0.0</td>\n",
       "      <td>0.0</td>\n",
       "      <td>0.0</td>\n",
       "      <td>0.0</td>\n",
       "      <td>0.0</td>\n",
       "      <td>0.0</td>\n",
       "      <td>0.0</td>\n",
       "      <td>0.0</td>\n",
       "      <td>...</td>\n",
       "      <td>0.0</td>\n",
       "      <td>0.0</td>\n",
       "      <td>0.0</td>\n",
       "      <td>0.0</td>\n",
       "      <td>0.0</td>\n",
       "      <td>0.0</td>\n",
       "      <td>0.0</td>\n",
       "      <td>0.0</td>\n",
       "      <td>0.0</td>\n",
       "      <td>0.0</td>\n",
       "    </tr>\n",
       "    <tr>\n",
       "      <th>cg00003287</th>\n",
       "      <td>0.0</td>\n",
       "      <td>0.0</td>\n",
       "      <td>0.0</td>\n",
       "      <td>0.0</td>\n",
       "      <td>0.0</td>\n",
       "      <td>0.0</td>\n",
       "      <td>0.0</td>\n",
       "      <td>0.0</td>\n",
       "      <td>0.0</td>\n",
       "      <td>0.0</td>\n",
       "      <td>...</td>\n",
       "      <td>0.0</td>\n",
       "      <td>0.0</td>\n",
       "      <td>0.0</td>\n",
       "      <td>0.0</td>\n",
       "      <td>0.0</td>\n",
       "      <td>0.0</td>\n",
       "      <td>0.0</td>\n",
       "      <td>0.0</td>\n",
       "      <td>0.0</td>\n",
       "      <td>0.0</td>\n",
       "    </tr>\n",
       "  </tbody>\n",
       "</table>\n",
       "<p>5 rows × 2664 columns</p>\n",
       "</div>"
      ],
      "text/plain": [
       "            TNFRSF4  MXRA8  ATAD3A  MMP23B  SLC35E2  MORN1  KCNAB2  KLHL21  \\\n",
       "cg00002224      0.0    0.0     0.0     0.0      0.0    0.0     0.0     0.0   \n",
       "cg00002426      0.0    0.0     0.0     0.0      0.0    0.0     0.0     0.0   \n",
       "cg00002593      0.0    0.0     0.0     0.0      0.0    0.0     0.0     0.0   \n",
       "cg00002719      0.0    0.0     0.0     0.0      0.0    0.0     0.0     0.0   \n",
       "cg00003287      0.0    0.0     0.0     0.0      0.0    0.0     0.0     0.0   \n",
       "\n",
       "            TNFRSF9  ENO1  ...   ATP11C  CXorf40B  MAGEA4  MAGEA12  CETN2  \\\n",
       "cg00002224      0.0   0.0  ...      0.0       0.0     0.0      0.0    0.0   \n",
       "cg00002426      0.0   0.0  ...      0.0       0.0     0.0      0.0    0.0   \n",
       "cg00002593      0.0   0.0  ...      0.0       0.0     0.0      0.0    0.0   \n",
       "cg00002719      0.0   0.0  ...      0.0       0.0     0.0      0.0    0.0   \n",
       "cg00003287      0.0   0.0  ...      0.0       0.0     0.0      0.0    0.0   \n",
       "\n",
       "            PNMA5  PNMA3  TREX2  ARHGAP4  FLNA  \n",
       "cg00002224    0.0    0.0    0.0      0.0   0.0  \n",
       "cg00002426    0.0    0.0    0.0      0.0   0.0  \n",
       "cg00002593    0.0    0.0    0.0      0.0   0.0  \n",
       "cg00002719    0.0    0.0    0.0      0.0   0.0  \n",
       "cg00003287    0.0    0.0    0.0      0.0   0.0  \n",
       "\n",
       "[5 rows x 2664 columns]"
      ]
     },
     "execution_count": 8,
     "metadata": {},
     "output_type": "execute_result"
    }
   ],
   "source": [
    "data = pd.read_csv(path_ref_data, sep=',', index_col=0)\n",
    "data.head()"
   ]
  },
  {
   "cell_type": "code",
   "execution_count": 9,
   "metadata": {},
   "outputs": [],
   "source": [
    "all_genes, all_cpgs = list(data.columns), list(data.index)"
   ]
  },
  {
   "cell_type": "code",
   "execution_count": 10,
   "metadata": {},
   "outputs": [],
   "source": [
    "target_genes = {'1': [], '2': []}\n",
    "with open(path_target_genes, 'r') as infile:\n",
    "    \n",
    "    contents = infile.read().split('\\n')\n",
    "    # Skip header line.\n",
    "    for row in contents[1:]:\n",
    "        try:\n",
    "            gene, cluster = row.split()\n",
    "            target_genes[cluster].append(ast.literal_eval(gene))\n",
    "        except:\n",
    "            pass"
   ]
  },
  {
   "cell_type": "code",
   "execution_count": 11,
   "metadata": {
    "collapsed": true
   },
   "outputs": [],
   "source": [
    "target_cpgs = {'1': [], '2': []}\n",
    "with open(path_target_cpgs, 'r') as infile:\n",
    "    \n",
    "    contents = infile.read().split('\\n')\n",
    "    # Skip header line.\n",
    "    for row in contents[1:]:\n",
    "        try:\n",
    "            cpg, cluster, _ = row.split()\n",
    "            target_cpgs[cluster].append(ast.literal_eval(cpg))\n",
    "        except:\n",
    "            pass"
   ]
  },
  {
   "cell_type": "markdown",
   "metadata": {},
   "source": [
    "## sklearn: spectral coclustering"
   ]
  },
  {
   "cell_type": "code",
   "execution_count": 13,
   "metadata": {},
   "outputs": [
    {
     "data": {
      "text/plain": [
       "SpectralCoclustering(init='k-means++', mini_batch=False, n_clusters=2,\n",
       "           n_init=10, n_jobs=1, n_svd_vecs=None, random_state=0,\n",
       "           svd_method='randomized')"
      ]
     },
     "execution_count": 13,
     "metadata": {},
     "output_type": "execute_result"
    }
   ],
   "source": [
    "cospec = SpectralCoclustering(\n",
    "    n_clusters=2, random_state=0\n",
    ")\n",
    "cospec.fit(data)"
   ]
  },
  {
   "cell_type": "code",
   "execution_count": 16,
   "metadata": {},
   "outputs": [
    {
     "data": {
      "text/plain": [
       "((2, 27561), (2, 2664))"
      ]
     },
     "execution_count": 16,
     "metadata": {},
     "output_type": "execute_result"
    }
   ],
   "source": [
    "# Row indicators:\n",
    "# cospec.rows_ = (num_biclusters, {1} if row in cluster[i])\n",
    "# cospec.columns_ = (num_biclusters, {1} if column in cluster[i])\n",
    "cospec.rows_.shape, cospec.columns_.shape"
   ]
  },
  {
   "cell_type": "code",
   "execution_count": 28,
   "metadata": {},
   "outputs": [],
   "source": [
    "model = cospec\n",
    "\n",
    "# E.g.:\n",
    "# model.rows_ = (num clusters, 1 if row is member, else 0)\n",
    "#\n",
    "# For each bicluster, where row coords = True => those rows are\n",
    "# members of the biclusters. Else row coords = False.\n",
    "#\n",
    "# The row coords of a bicluster = the row number where \n",
    "# (for each cluster) the \n",
    "num_biclusters = model.rows_.shape[0]\n",
    "\n",
    "row_ids, col_ids = [], []\n",
    "for num in range(num_biclusters):\n",
    "\n",
    "    row_mbers = model.rows_[num, :].astype(bool)\n",
    "    col_mbers = model.columns_[num, :].astype(bool)\n",
    "    row_idxs = [\n",
    "        coord for coord, membersh in enumerate(row_mbers) if membersh\n",
    "    ]\n",
    "    col_idxs = [\n",
    "        coord for coord, membersh in enumerate(col_mbers) if membersh\n",
    "    ]\n",
    "    row_ids.append(row_idxs), col_ids.append(col_idxs)"
   ]
  },
  {
   "cell_type": "code",
   "execution_count": 34,
   "metadata": {},
   "outputs": [
    {
     "data": {
      "text/plain": [
       "(27468,)"
      ]
     },
     "execution_count": 34,
     "metadata": {},
     "output_type": "execute_result"
    }
   ],
   "source": [
    "np.shape(row_ids[0])"
   ]
  },
  {
   "cell_type": "markdown",
   "metadata": {},
   "source": [
    "## sklearn: spectral biclustering"
   ]
  },
  {
   "cell_type": "code",
   "execution_count": null,
   "metadata": {
    "collapsed": true
   },
   "outputs": [],
   "source": [
    "bispectral = SpectralBiclustering(\n",
    "    n_clusters=2, method='log', random_state=0\n",
    ")\n",
    "bispectral.fit(data)"
   ]
  },
  {
   "cell_type": "code",
   "execution_count": null,
   "metadata": {
    "collapsed": true
   },
   "outputs": [],
   "source": [
    "cluster_scores(\n",
    "    bispectral.rows_, bispectral.columns_, target='cpgs'\n",
    ")"
   ]
  },
  {
   "cell_type": "code",
   "execution_count": null,
   "metadata": {
    "collapsed": true
   },
   "outputs": [],
   "source": [
    "cluster_scores(\n",
    "    bispectral.rows_, bispectral.columns_, target='genes'\n",
    ")"
   ]
  },
  {
   "cell_type": "markdown",
   "metadata": {},
   "source": [
    "## sklearn: spectral coclustering"
   ]
  },
  {
   "cell_type": "code",
   "execution_count": null,
   "metadata": {
    "collapsed": true
   },
   "outputs": [],
   "source": [
    "cospec = SpectralBiclustering(\n",
    "    n_clusters=2, method='log', random_state=0\n",
    ")\n",
    "cospec.fit(data)"
   ]
  },
  {
   "cell_type": "code",
   "execution_count": null,
   "metadata": {
    "collapsed": true
   },
   "outputs": [],
   "source": [
    "cluster_scores(\n",
    "    cospectral.rows_, cospectral.columns_, target='cpgs'\n",
    ")"
   ]
  },
  {
   "cell_type": "code",
   "execution_count": null,
   "metadata": {
    "collapsed": true
   },
   "outputs": [],
   "source": [
    "cluster_scores(\n",
    "    cospectral.rows_, cospectral.columns_, target='genes'\n",
    ")"
   ]
  },
  {
   "cell_type": "markdown",
   "metadata": {},
   "source": [
    "## R: plaid"
   ]
  },
  {
   "cell_type": "code",
   "execution_count": null,
   "metadata": {},
   "outputs": [],
   "source": [
    "xmot = algorithms.XMotifs(\n",
    "    **{'number': 10}\n",
    ")\n",
    "xmot.fit(data.values)"
   ]
  },
  {
   "cell_type": "code",
   "execution_count": null,
   "metadata": {},
   "outputs": [],
   "source": [
    "xmot.rows_.shape, xmot.columns_.shape"
   ]
  },
  {
   "cell_type": "code",
   "execution_count": null,
   "metadata": {
    "collapsed": true
   },
   "outputs": [],
   "source": []
  }
 ],
 "metadata": {
  "kernelspec": {
   "display_name": "Python [conda env:anaconda]",
   "language": "python",
   "name": "conda-env-anaconda-py"
  },
  "language_info": {
   "codemirror_mode": {
    "name": "ipython",
    "version": 3
   },
   "file_extension": ".py",
   "mimetype": "text/x-python",
   "name": "python",
   "nbconvert_exporter": "python",
   "pygments_lexer": "ipython3",
   "version": "3.6.3"
  }
 },
 "nbformat": 4,
 "nbformat_minor": 2
}
