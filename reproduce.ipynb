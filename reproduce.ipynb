{
 "cells": [
  {
   "cell_type": "markdown",
   "metadata": {},
   "source": [
    "# Reproduce\n",
    "\n",
    "* How many true CpGs/genes are included in each detected bicluster?\n",
    "* How many CpGs/genes are found in each detected bicluster, but not part of the target biclsuter?\n",
    "* What is min/max/std of data points of each bicluster (cluster heteroginity)?"
   ]
  },
  {
   "cell_type": "code",
   "execution_count": null,
   "metadata": {
    "collapsed": true
   },
   "outputs": [],
   "source": [
    "# NOTE: Try Agglomerative algorithm\n",
    "path_ref_data = './../data/train/sel_pvalues_prep.csv'\n",
    "path_target_genes = './../data/test/emQTL_Cluster_genes.txt'\n",
    "path_target_cpgs = './../data/test/emQTL_Clusters_CpGs.txt'"
   ]
  },
  {
   "cell_type": "code",
   "execution_count": null,
   "metadata": {
    "collapsed": true
   },
   "outputs": [],
   "source": [
    "import ast\n",
    "import algorithms\n",
    "\n",
    "import numpy as np\n",
    "import pandas as pd\n",
    "\n",
    "import seaborn as sns\n",
    "import matplotlib.pyplot as plt\n",
    "\n",
    "from collections import OrderedDict\n",
    "\n",
    "from sklearn.cluster import SpectralBiclustering\n",
    "from sklearn.cluster import SpectralCoclustering\n",
    "from sklearn.cluster import AgglomerativeClustering\n",
    "\n",
    "%matplotlib inline"
   ]
  },
  {
   "cell_type": "code",
   "execution_count": null,
   "metadata": {
    "collapsed": true
   },
   "outputs": [],
   "source": [
    "def recovery_score(true, pred):\n",
    "    \"\"\"The fraction of true items among the predicted\n",
    "    items.\"\"\"\n",
    "    \n",
    "    return np.isin(pred, true).sum() / np.size(true)"
   ]
  },
  {
   "cell_type": "code",
   "execution_count": null,
   "metadata": {
    "collapsed": true
   },
   "outputs": [],
   "source": [
    "def relevance_score(true, pred):\n",
    "    \"\"\"The fraction of predicted items not among the \n",
    "    true items.\"\"\"\n",
    "    \n",
    "    return np.isin(true, pred).sum() / np.size(pred)"
   ]
  },
  {
   "cell_type": "code",
   "execution_count": null,
   "metadata": {
    "collapsed": true
   },
   "outputs": [],
   "source": [
    "def cluster_coord_indicators(row_mat, col_mat):\n",
    "    \"\"\"Determine coordiantes of row and column indicators \n",
    "    for each bicluster.\"\"\"\n",
    "    \n",
    "    num_biclusters = row_mat.shape[0]\n",
    "\n",
    "    row_idx, col_idx = [], []\n",
    "    for cluster_num in range(num_biclusters):\n",
    "        \n",
    "        rows_bools = row_mat[cluster_num, :] != 0\n",
    "        cols_bools = col_mat[cluster_num, :] != 0\n",
    "\n",
    "        rows = [index for index, elt in enumerate(rows_bools) if elt]\n",
    "        cols = [index for index, elt in enumerate(cols_bools) if elt]\n",
    "\n",
    "        row_idx.append(rows), col_idx.append(cols)\n",
    "\n",
    "    return row_idx, col_idx"
   ]
  },
  {
   "cell_type": "code",
   "execution_count": null,
   "metadata": {
    "collapsed": true
   },
   "outputs": [],
   "source": [
    "def cluster_scores(preds, refs, targets):\n",
    "    scores = {\n",
    "        'cl1_recovery': [], 'cl1_relevance': [],\n",
    "        'cl2_recovery': [], 'cl2_relevance': [],\n",
    "    }\n",
    "    for num, pred_ids in enumerate(preds):\n",
    "\n",
    "        pred = refs[pred_ids]\n",
    "        true1, true2 = targets['1'], targets['2']\n",
    "        # Frac targets among predicted (true positives).\n",
    "        scores['cl1_recovery'].append(recovery_score(true1, pred))\n",
    "        scores['cl2_recovery'].append(recovery_score(true2, pred))\n",
    "        # Frac detected targets compared to cluster size.\n",
    "        scores['cl1_relevance'].append(relevance_score(true1, pred))\n",
    "        scores['cl2_relevance'].append(relevance_score(true2, pred))\n",
    "\n",
    "    df_scores = pd.DataFrame(scores).T\n",
    "    df_scores.columns = [\n",
    "        'cluster_{}'.format(str(num + 1)) \n",
    "        for num in range(np.shape(preds)[0])\n",
    "    ]\n",
    "    df_scores.index = pd.MultiIndex.from_product(\n",
    "        [('cluster1', 'cluster2'), ('recovery', 'relevance')]\n",
    "    )\n",
    "\n",
    "    return df_scores"
   ]
  },
  {
   "cell_type": "code",
   "execution_count": null,
   "metadata": {
    "collapsed": true
   },
   "outputs": [],
   "source": [
    "def fetch_targets(path_to_targets, num_clusters=2):\n",
    "    \n",
    "    targets = {str(num + 1): [] for num in range(num_clusters)}\n",
    "    with open(path_to_targets, 'r') as infile:\n",
    "\n",
    "        contents = infile.read().split('\\n')\n",
    "        # Skip header line.\n",
    "        for row in contents[1:-1]:\n",
    "            # CpGs\n",
    "            if len(row.split()) == 3:\n",
    "                value, idx, _ = row.split()\n",
    "                targets[idx].append(ast.literal_eval(value))\n",
    "            # Genes\n",
    "            elif len(row.split()) == 2:\n",
    "                value, idx = row.split()\n",
    "                targets[idx].append(ast.literal_eval(value))\n",
    "            else:\n",
    "                pass\n",
    "        \n",
    "    return targets"
   ]
  },
  {
   "cell_type": "code",
   "execution_count": null,
   "metadata": {
    "collapsed": true
   },
   "outputs": [],
   "source": [
    "from scipy.stats import rankdata\n",
    "\n",
    "def avg_spearmans_rho(row_idx, col_idx, data):\n",
    "    \"\"\"Assess bicluster quality.\"\"\"\n",
    "    \n",
    "    # can detect shift, scale and shift-sclae patterns.\n",
    "    # From paper:\n",
    "    # http://www.scitepress.org/Papers/2018/66625/66625.pdf\n",
    "    \n",
    "    rho_rows = 0\n",
    "    for num, rows in enumerate(row_idx):\n",
    "        pass\n",
    "    \n",
    "    rho_cols = 0\n",
    "    for num, rows in enumerate(row_idx):\n",
    "        pass"
   ]
  },
  {
   "cell_type": "code",
   "execution_count": null,
   "metadata": {
    "collapsed": true
   },
   "outputs": [],
   "source": [
    "def bicluster_stats(row_idx, col_idx, data):\n",
    "    \"\"\"Determine min, max and std of data points in biclusters.\"\"\"\n",
    "\n",
    "    stats = {}\n",
    "    for num, rows in enumerate(row_idx):\n",
    "        _row_data = data[rows, :]\n",
    "        bicluster = _row_data[:, col_idx[num]]\n",
    "        nrows, ncols = np.shape(bicluster)\n",
    "        stats[str(num)] = {\n",
    "            'max': np.max(bicluster),\n",
    "            'min': np.min(bicluster),\n",
    "            'std': np.std(bicluster),\n",
    "            'nonzeros': int(np.count_nonzero(bicluster==0)),\n",
    "            'nrows': int(nrows),\n",
    "            'ncols': int(ncols),\n",
    "            'size': (nrows * ncols) / np.size(data)\n",
    "        }\n",
    "    df_stats = pd.DataFrame(stats)\n",
    "    df_stats.columns = ['cluster_{0}'.format(str(num + 1)) \n",
    "                        for num, _ in enumerate(stats)]\n",
    "\n",
    "    return df_stats"
   ]
  },
  {
   "cell_type": "code",
   "execution_count": null,
   "metadata": {
    "collapsed": true
   },
   "outputs": [],
   "source": [
    "np.shape(bispec_cpg_idx[0]), np.shape(bispec_gene_idx[0])"
   ]
  },
  {
   "cell_type": "code",
   "execution_count": null,
   "metadata": {
    "collapsed": true
   },
   "outputs": [],
   "source": [
    "data = pd.read_csv(path_ref_data, sep=',', index_col=0)\n",
    "data.head()"
   ]
  },
  {
   "cell_type": "code",
   "execution_count": null,
   "metadata": {
    "collapsed": true
   },
   "outputs": [],
   "source": [
    "# Necessary witha arrays for fast indexing\n",
    "all_genes = np.array(data.columns, dtype=object) \n",
    "all_cpgs = np.array(data.index, dtype=object)\n",
    "# Read target CpGs and genes from files.\n",
    "target_cpgs = fetch_targets(path_target_cpgs)\n",
    "target_genes = fetch_targets(path_target_genes)"
   ]
  },
  {
   "cell_type": "markdown",
   "metadata": {},
   "source": [
    "## sklearn: spectral biclustering"
   ]
  },
  {
   "cell_type": "code",
   "execution_count": null,
   "metadata": {
    "collapsed": true
   },
   "outputs": [],
   "source": [
    "# Produces $2^n$ results for $n$ clusters. \n",
    "# Assumes the input data matrix has a hidden checkerboard structure.\n",
    "\n",
    "# NB: Produces 2^n clusters for n clusters.\n",
    "bispec = SpectralBiclustering(\n",
    "    n_clusters=(2, 2), method='log', random_state=0\n",
    ")\n",
    "bispec.fit(data)"
   ]
  },
  {
   "cell_type": "code",
   "execution_count": null,
   "metadata": {
    "collapsed": true
   },
   "outputs": [],
   "source": [
    "bispec_cpg_idx, bispec_gene_idx = cluster_coord_indicators(\n",
    "    bispec.rows_, bispec.columns_\n",
    ")"
   ]
  },
  {
   "cell_type": "code",
   "execution_count": null,
   "metadata": {
    "collapsed": true,
    "scrolled": true
   },
   "outputs": [],
   "source": [
    "bicluster_stats(\n",
    "    bispec_cpg_idx, bispec_gene_idx, data.values\n",
    ")"
   ]
  },
  {
   "cell_type": "markdown",
   "metadata": {},
   "source": [
    "**Observations**\n",
    "* All biclusters involves zeros.\n",
    "* Constitutes only a small part of the data matrix itself.\n",
    "* Largest std in cluster 3."
   ]
  },
  {
   "cell_type": "code",
   "execution_count": null,
   "metadata": {
    "collapsed": true
   },
   "outputs": [],
   "source": [
    "bispec_cpg_scores = cluster_scores(\n",
    "    bispec_cpg_idx, all_cpgs, target_cpgs\n",
    ")\n",
    "bispec_cpg_scores "
   ]
  },
  {
   "cell_type": "markdown",
   "metadata": {},
   "source": [
    "**Observations**\n",
    "* Run $n=2$:\n",
    "    * Cluster 3 and 4 contains $\\approx 77 \\%$ of the target CpGs of cluster 1 which constitutes $\\approx 97 \\%$ of the total cluster contents.\n",
    "    * Cluster 1 and 2 contains $\\approx 99 \\%$ of the target CpGs of cluster 2, but these clusters also contains many other samples."
   ]
  },
  {
   "cell_type": "code",
   "execution_count": null,
   "metadata": {
    "collapsed": true
   },
   "outputs": [],
   "source": [
    "bispec_gene_scores = cluster_scores(\n",
    "    bispec_gene_idx, all_genes, target_genes\n",
    ")\n",
    "bispec_gene_scores "
   ]
  },
  {
   "cell_type": "markdown",
   "metadata": {},
   "source": [
    "**Observations**\n",
    "* Run $n=2$:\n",
    "    * Cluster 1 and 3 contains $\\approx 82 \\%$ of the target CpGs of cluster 1 which constitutes $\\approx 97 \\%$ of the total cluster contents.\n",
    "    * Cluster 2 and 4 contains $\\approx 99 \\%$ of the target CpGs of cluster 2, but these clusters also contains many other samples."
   ]
  },
  {
   "cell_type": "markdown",
   "metadata": {},
   "source": [
    "## sklearn: spectral coclustering"
   ]
  },
  {
   "cell_type": "code",
   "execution_count": null,
   "metadata": {
    "collapsed": true
   },
   "outputs": [],
   "source": [
    "cospec = SpectralCoclustering(\n",
    "    n_clusters=2, random_state=0\n",
    ")\n",
    "cospec.fit(data)"
   ]
  },
  {
   "cell_type": "code",
   "execution_count": null,
   "metadata": {
    "collapsed": true
   },
   "outputs": [],
   "source": [
    "cospec_cpg_idx, cospec_gene_idx = cluster_coord_indicators(\n",
    "    cospec.rows_, cospec.columns_\n",
    ")"
   ]
  },
  {
   "cell_type": "code",
   "execution_count": null,
   "metadata": {
    "collapsed": true
   },
   "outputs": [],
   "source": [
    "bicluster_stats(\n",
    "    cospec_cpg_idx, cospec_gene_idx, data.values\n",
    ")"
   ]
  },
  {
   "cell_type": "markdown",
   "metadata": {},
   "source": [
    "**Observations**\n",
    "* All biclusters include zeros.\n",
    "* Cluster 2 is significantly smaller than cluster 1."
   ]
  },
  {
   "cell_type": "code",
   "execution_count": null,
   "metadata": {
    "collapsed": true
   },
   "outputs": [],
   "source": [
    "cospec_cpg_scores = cluster_scores(\n",
    "    cospec_cpg_idx, all_cpgs, target_cpgs\n",
    ")\n",
    "cospec_cpg_scores "
   ]
  },
  {
   "cell_type": "code",
   "execution_count": null,
   "metadata": {
    "collapsed": true
   },
   "outputs": [],
   "source": [
    "cospec_gene_scores = cluster_scores(\n",
    "    cospec_gene_idx, all_genes, target_genes\n",
    ")\n",
    "cospec_gene_scores "
   ]
  },
  {
   "cell_type": "markdown",
   "metadata": {},
   "source": [
    "**Observations**\n",
    "* Run $n=2$:\n",
    "    * All target cluster contents is captured in cluster 1 rendering cluster 2 as noise.\n",
    "    * Clsuter 1 contains many more samples than the target clusters and, thus, indicates to the too coarse to capture any relevant information."
   ]
  },
  {
   "cell_type": "markdown",
   "metadata": {},
   "source": [
    "## R: Plaid"
   ]
  },
  {
   "cell_type": "code",
   "execution_count": null,
   "metadata": {
    "collapsed": true
   },
   "outputs": [],
   "source": [
    "plaid = algorithms.Plaid()\n",
    "plaid.fit(data.values)\n",
    "\n",
    "plaid_cpg_idx, plaid_gene_idx = cluster_indicators(\n",
    "    plaid.rows_, plaid.columns_\n",
    ")"
   ]
  },
  {
   "cell_type": "code",
   "execution_count": null,
   "metadata": {
    "collapsed": true
   },
   "outputs": [],
   "source": []
  },
  {
   "cell_type": "markdown",
   "metadata": {},
   "source": [
    "## R: xMotifs"
   ]
  },
  {
   "cell_type": "code",
   "execution_count": null,
   "metadata": {
    "collapsed": true
   },
   "outputs": [],
   "source": [
    "xmot = algorithms.XMotifs(number=2)\n",
    "xmot.fit(data.values)"
   ]
  },
  {
   "cell_type": "code",
   "execution_count": null,
   "metadata": {
    "collapsed": true
   },
   "outputs": [],
   "source": [
    "xmot_cpg_idx, xmot_gene_idx = cluster_indicators(\n",
    "    xmot.rows_, xmot.columns_\n",
    ")"
   ]
  },
  {
   "cell_type": "code",
   "execution_count": null,
   "metadata": {
    "collapsed": true
   },
   "outputs": [],
   "source": [
    "xmot_cpg_scores = cluster_scores(\n",
    "    xmot_cpg_idx, all_cpgs, target_cpgs\n",
    ")\n",
    "xmot_cpg_scores "
   ]
  },
  {
   "cell_type": "code",
   "execution_count": null,
   "metadata": {
    "collapsed": true
   },
   "outputs": [],
   "source": []
  },
  {
   "cell_type": "code",
   "execution_count": null,
   "metadata": {
    "collapsed": true
   },
   "outputs": [],
   "source": [
    "xmot_gene_scores = cluster_scores(\n",
    "    xmot_gene_idx, all_genes, target_genes\n",
    ")\n",
    "xmot_gene_scores "
   ]
  },
  {
   "cell_type": "code",
   "execution_count": null,
   "metadata": {
    "collapsed": true
   },
   "outputs": [],
   "source": []
  },
  {
   "cell_type": "code",
   "execution_count": null,
   "metadata": {
    "collapsed": true
   },
   "outputs": [],
   "source": []
  }
 ],
 "metadata": {
  "kernelspec": {
   "display_name": "Python [conda env:anaconda]",
   "language": "python",
   "name": "conda-env-anaconda-py"
  },
  "language_info": {
   "codemirror_mode": {
    "name": "ipython",
    "version": 3
   },
   "file_extension": ".py",
   "mimetype": "text/x-python",
   "name": "python",
   "nbconvert_exporter": "python",
   "pygments_lexer": "ipython3",
   "version": "3.6.3"
  }
 },
 "nbformat": 4,
 "nbformat_minor": 2
}
