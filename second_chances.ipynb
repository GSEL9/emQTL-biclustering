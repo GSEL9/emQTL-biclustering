{
 "cells": [
  {
   "cell_type": "markdown",
   "metadata": {},
   "source": [
    "# Second chances\n",
    "\n",
    "**Goal**\n",
    "\n",
    "Verify that the model selection procedure selects the most suitable algorithms."
   ]
  },
  {
   "cell_type": "code",
   "execution_count": 2,
   "metadata": {},
   "outputs": [],
   "source": [
    "import os\n",
    "import ast\n",
    "\n",
    "import algorithms\n",
    "import validation\n",
    "\n",
    "import numpy as np\n",
    "import pandas as pd\n",
    "import seaborn as sns\n",
    "import matplotlib.pyplot as plt\n",
    "\n",
    "from sklearn.cluster import SpectralBiclustering\n",
    "\n",
    "plt.rcParams['font.size'] = 16\n",
    "plt.rcParams['axes.facecolor'] = 'white'\n",
    "\n",
    "%matplotlib inline"
   ]
  },
  {
   "cell_type": "code",
   "execution_count": 4,
   "metadata": {
    "collapsed": true
   },
   "outputs": [],
   "source": [
    "# Paths to ref cluster indications.\n",
    "path_target_genes = './../data/test/emQTL_Cluster_genes.txt'\n",
    "path_target_cpgs = './../data/test/emQTL_Clusters_CpGs.txt'"
   ]
  },
  {
   "cell_type": "code",
   "execution_count": 5,
   "metadata": {
    "collapsed": true
   },
   "outputs": [],
   "source": [
    "# Indicator labels for classes of reference data.\n",
    "ref_labels = [\n",
    "    'orig_pvalues', 'sel_pvalues','orig_pcc', 'sel_pcc'\n",
    "]"
   ]
  },
  {
   "cell_type": "code",
   "execution_count": 6,
   "metadata": {
    "collapsed": true
   },
   "outputs": [],
   "source": [
    "# Read experimental data\n",
    "ref_data = {\n",
    "    # NOTE: Transpose to (Cpgs x genes).\n",
    "    ref_labels[0]: pd.read_csv(\n",
    "        './../data/train/orig_pvalues_prep.csv', sep=',', index_col=0\n",
    "    ).T,\n",
    "    ref_labels[1]: pd.read_csv(\n",
    "        './../data/train/sel_pvalues_prep.csv', sep=',', index_col=0\n",
    "    ),\n",
    "    # NOTE: Transpose to (Cpgs x genes).\n",
    "    ref_labels[2]: pd.read_csv(\n",
    "        './../data/train/orig_pcc_prep.csv', sep=',', index_col=0\n",
    "    ).T,\n",
    "    ref_labels[3]: pd.read_csv(\n",
    "        './../data/train/sel_pcc_prep.csv', sep=',', index_col=0\n",
    "    ),\n",
    "}"
   ]
  },
  {
   "cell_type": "code",
   "execution_count": 7,
   "metadata": {
    "collapsed": true
   },
   "outputs": [],
   "source": [
    "ref_clusters = validation.References(\n",
    "    path_target_cpgs, path_target_genes\n",
    ")"
   ]
  },
  {
   "cell_type": "markdown",
   "metadata": {},
   "source": [
    "## Models: sklearn"
   ]
  },
  {
   "cell_type": "code",
   "execution_count": null,
   "metadata": {
    "collapsed": true
   },
   "outputs": [],
   "source": [
    "biclust = SpectralBiclustering(\n",
    "    n_clusters=2, method='log'\n",
    ")"
   ]
  },
  {
   "cell_type": "markdown",
   "metadata": {},
   "source": [
    "## Models: R"
   ]
  },
  {
   "cell_type": "code",
   "execution_count": null,
   "metadata": {
    "collapsed": true
   },
   "outputs": [],
   "source": []
  }
 ],
 "metadata": {
  "kernelspec": {
   "display_name": "Python [conda env:anaconda]",
   "language": "python",
   "name": "conda-env-anaconda-py"
  },
  "language_info": {
   "codemirror_mode": {
    "name": "ipython",
    "version": 3
   },
   "file_extension": ".py",
   "mimetype": "text/x-python",
   "name": "python",
   "nbconvert_exporter": "python",
   "pygments_lexer": "ipython3",
   "version": "3.6.3"
  }
 },
 "nbformat": 4,
 "nbformat_minor": 2
}
