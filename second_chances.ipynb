{
 "cells": [
  {
   "cell_type": "markdown",
   "metadata": {},
   "source": [
    "# Second chances\n",
    "\n",
    "**Goal**\n",
    "\n",
    "Verify that the model selection procedure selects the most suitable algorithms."
   ]
  },
  {
   "cell_type": "code",
   "execution_count": null,
   "metadata": {},
   "outputs": [],
   "source": [
    "import os\n",
    "import ast\n",
    "\n",
    "import algorithms\n",
    "import validation\n",
    "\n",
    "import numpy as np\n",
    "import pandas as pd\n",
    "import seaborn as sns\n",
    "import matplotlib.pyplot as plt\n",
    "# To Plaid model eq.\n",
    "import rpy2.robjects as robjects\n",
    "\n",
    "from sklearn.cluster import SpectralBiclustering\n",
    "\n",
    "plt.rcParams['font.size'] = 16\n",
    "plt.rcParams['axes.facecolor'] = 'white'\n",
    "\n",
    "%matplotlib inline"
   ]
  },
  {
   "cell_type": "code",
   "execution_count": null,
   "metadata": {
    "collapsed": true
   },
   "outputs": [],
   "source": [
    "def biclusters(models, ref_labels):\n",
    "    # Create Bicluster instances tracking detected clusters \n",
    "    \n",
    "    biclusters = {}\n",
    "    for label in ref_labels:\n",
    "        rows = models[label].rows_\n",
    "        cols = models[label].columns_\n",
    "\n",
    "        assert np.shape(rows)[0] == np.shape(cols)[0]\n",
    "    \n",
    "        biclusters[label] = validation.Biclusters(\n",
    "            rows=rows, cols=cols, data=ref_data[label]\n",
    "        )\n",
    "        \n",
    "    return biclusters"
   ]
  },
  {
   "cell_type": "code",
   "execution_count": null,
   "metadata": {
    "collapsed": true
   },
   "outputs": [],
   "source": [
    "# Paths to ref cluster indications.\n",
    "path_target_genes = './../data/test/emQTL_Cluster_genes.txt'\n",
    "path_target_cpgs = './../data/test/emQTL_Clusters_CpGs.txt'"
   ]
  },
  {
   "cell_type": "code",
   "execution_count": null,
   "metadata": {
    "collapsed": true
   },
   "outputs": [],
   "source": [
    "# Indicator labels for classes of reference data.\n",
    "ref_labels = [\n",
    "    'orig_pvalues', 'sel_pvalues','orig_pcc', 'sel_pcc'\n",
    "]"
   ]
  },
  {
   "cell_type": "code",
   "execution_count": null,
   "metadata": {
    "collapsed": true
   },
   "outputs": [],
   "source": [
    "# Read experimental data\n",
    "ref_data = {\n",
    "    # NOTE: Transpose to (Cpgs x genes).\n",
    "    ref_labels[0]: pd.read_csv(\n",
    "        './../data/train/orig_pvalues_prep.csv', sep=',', index_col=0\n",
    "    ).T,\n",
    "    ref_labels[1]: pd.read_csv(\n",
    "        './../data/train/sel_pvalues_prep.csv', sep=',', index_col=0\n",
    "    ),\n",
    "    # NOTE: Transpose to (Cpgs x genes).\n",
    "    ref_labels[2]: pd.read_csv(\n",
    "        './../data/train/orig_pcc_prep.csv', sep=',', index_col=0\n",
    "    ).T,\n",
    "    ref_labels[3]: pd.read_csv(\n",
    "        './../data/train/sel_pcc_prep.csv', sep=',', index_col=0\n",
    "    ),\n",
    "}"
   ]
  },
  {
   "cell_type": "code",
   "execution_count": null,
   "metadata": {
    "collapsed": true
   },
   "outputs": [],
   "source": [
    "ref_clusters = validation.References.from_files(\n",
    "    path_target_cpgs, path_target_genes\n",
    ")"
   ]
  },
  {
   "cell_type": "markdown",
   "metadata": {},
   "source": [
    "## Model: Spectral Biclustering"
   ]
  },
  {
   "cell_type": "code",
   "execution_count": null,
   "metadata": {
    "collapsed": true
   },
   "outputs": [],
   "source": [
    "biclust = SpectralBiclustering(\n",
    "    n_clusters=2, method='log'\n",
    ")"
   ]
  },
  {
   "cell_type": "code",
   "execution_count": null,
   "metadata": {
    "collapsed": true
   },
   "outputs": [],
   "source": [
    "# Fit models to data.\n",
    "sk_models = {}\n",
    "for label in ref_labels:\n",
    "    sk_models[label] = biclust.fit(ref_data[label])"
   ]
  },
  {
   "cell_type": "code",
   "execution_count": null,
   "metadata": {
    "collapsed": true
   },
   "outputs": [],
   "source": [
    "# Create Bicluster instances tracking detected clusters \n",
    "sk_biclusters = biclusters(sk_models, ref_labels)"
   ]
  },
  {
   "cell_type": "markdown",
   "metadata": {},
   "source": [
    "### Bicluster statistics"
   ]
  },
  {
   "cell_type": "code",
   "execution_count": null,
   "metadata": {},
   "outputs": [],
   "source": [
    "for label in ref_labels:\n",
    "    print('{0}\\n{1}'.format(label, '-' * 50))\n",
    "    print(sk_biclusters[label].stats)\n",
    "    print()"
   ]
  },
  {
   "cell_type": "markdown",
   "metadata": {},
   "source": [
    "### Reference comparison"
   ]
  },
  {
   "cell_type": "code",
   "execution_count": null,
   "metadata": {},
   "outputs": [],
   "source": [
    "for label in ref_labels:\n",
    "    print('{0}\\n{1}'.format(label, '-' * 50))\n",
    "    print(validation.compare_clusters(sk_biclusters[label], ref_clusters))\n",
    "    print()"
   ]
  },
  {
   "cell_type": "markdown",
   "metadata": {},
   "source": [
    "## Model: XMotifs"
   ]
  },
  {
   "cell_type": "code",
   "execution_count": null,
   "metadata": {
    "collapsed": true
   },
   "outputs": [],
   "source": [
    "xmot = algorithms.XMotifs(\n",
    "    number=2,\n",
    "    ns=200,\n",
    "    nd=100,\n",
    "    sd=5,\n",
    "    alpha=0.05\n",
    ")"
   ]
  },
  {
   "cell_type": "code",
   "execution_count": null,
   "metadata": {},
   "outputs": [],
   "source": [
    "# Fit models to data.\n",
    "xmot_models = {}\n",
    "for label in ref_labels:\n",
    "    xmot_models[label] = xmot.fit(ref_data[label].values)"
   ]
  },
  {
   "cell_type": "code",
   "execution_count": null,
   "metadata": {
    "collapsed": true
   },
   "outputs": [],
   "source": [
    "# Create Bicluster instances tracking detected clusters \n",
    "xmot_biclusters = biclusters(xmot_models, ref_labels)"
   ]
  },
  {
   "cell_type": "markdown",
   "metadata": {},
   "source": [
    "### Bicluster statistics"
   ]
  },
  {
   "cell_type": "code",
   "execution_count": null,
   "metadata": {
    "collapsed": true
   },
   "outputs": [],
   "source": [
    "for label in ref_labels:\n",
    "    print('{0}\\n{1}'.format(label, '-' * 50))\n",
    "    print(sk_biclusters[label].stats)\n",
    "    print()"
   ]
  },
  {
   "cell_type": "markdown",
   "metadata": {},
   "source": [
    "### Reference comparison"
   ]
  },
  {
   "cell_type": "code",
   "execution_count": null,
   "metadata": {
    "collapsed": true
   },
   "outputs": [],
   "source": [
    "for label in ref_labels:\n",
    "    print('{0}\\n{1}'.format(label, '-' * 50))\n",
    "    print(validation.compare_clusters(xmot_biclusters[label], ref_clusters))\n",
    "    print()"
   ]
  },
  {
   "cell_type": "markdown",
   "metadata": {},
   "source": [
    "## Model: Plaid"
   ]
  },
  {
   "cell_type": "code",
   "execution_count": null,
   "metadata": {
    "collapsed": true
   },
   "outputs": [],
   "source": [
    "plaid = algorithms.Plaid(\n",
    "    cluster='b',\n",
    "    fit_model=robjects.r('y ~ m + a + b'),\n",
    "    background=True,\n",
    "    row_release=0.7,\n",
    "    col_release=0.7,\n",
    "    shuffle=3,\n",
    "    back_fit=0,\n",
    "    max_layers=20,\n",
    "    iter_startup=5,\n",
    "    iter_layer=10,\n",
    "    back_fit=0,\n",
    "    verbose=False,\n",
    ")"
   ]
  },
  {
   "cell_type": "code",
   "execution_count": null,
   "metadata": {
    "collapsed": true
   },
   "outputs": [],
   "source": [
    "# Fit models to data.\n",
    "plaid_models = {}\n",
    "for label in ref_labels:\n",
    "    plaid_models[label] = plaid.fit(ref_data[label].values)"
   ]
  },
  {
   "cell_type": "code",
   "execution_count": null,
   "metadata": {
    "collapsed": true
   },
   "outputs": [],
   "source": [
    "# Create Bicluster instances tracking detected clusters \n",
    "plaid_biclusters = biclusters(plaid_models, ref_labels)"
   ]
  },
  {
   "cell_type": "markdown",
   "metadata": {},
   "source": [
    "### Bicluster statistics"
   ]
  },
  {
   "cell_type": "code",
   "execution_count": null,
   "metadata": {
    "collapsed": true
   },
   "outputs": [],
   "source": [
    "for label in ref_labels:\n",
    "    print('{0}\\n{1}'.format(label, '-' * 50))\n",
    "    print(plaid_biclusters[label].stats)\n",
    "    print()"
   ]
  },
  {
   "cell_type": "markdown",
   "metadata": {},
   "source": [
    "### Reference comparison"
   ]
  },
  {
   "cell_type": "code",
   "execution_count": null,
   "metadata": {
    "collapsed": true
   },
   "outputs": [],
   "source": [
    "for label in ref_labels:\n",
    "    print('{0}\\n{1}'.format(label, '-' * 50))\n",
    "    print(validation.compare_clusters(plaid_biclusters[label], ref_clusters))\n",
    "    print()"
   ]
  },
  {
   "cell_type": "markdown",
   "metadata": {},
   "source": [
    "## Model: Cheng Church"
   ]
  },
  {
   "cell_type": "code",
   "execution_count": null,
   "metadata": {
    "collapsed": true
   },
   "outputs": [],
   "source": [
    "cc = algorithms.ChengChurch(\n",
    "    delta= 0.1,\n",
    "    alpha= 1.5,\n",
    "    number= 2\n",
    ")"
   ]
  },
  {
   "cell_type": "code",
   "execution_count": null,
   "metadata": {
    "collapsed": true
   },
   "outputs": [],
   "source": [
    "# Fit models to data.\n",
    "cc_models = {}\n",
    "for label in ref_labels:\n",
    "    cc_models[label] = cc.fit(ref_data[label].values)"
   ]
  },
  {
   "cell_type": "code",
   "execution_count": null,
   "metadata": {
    "collapsed": true
   },
   "outputs": [],
   "source": [
    "# Create Bicluster instances tracking detected clusters \n",
    "cc_biclusters = biclusters(plaid_models, ref_labels)"
   ]
  },
  {
   "cell_type": "markdown",
   "metadata": {},
   "source": [
    "### Bicluster statistics"
   ]
  },
  {
   "cell_type": "code",
   "execution_count": null,
   "metadata": {
    "collapsed": true
   },
   "outputs": [],
   "source": [
    "for label in ref_labels:\n",
    "    print('{0}\\n{1}'.format(label, '-' * 50))\n",
    "    print(cc_biclusters[label].stats)\n",
    "    print()"
   ]
  },
  {
   "cell_type": "markdown",
   "metadata": {},
   "source": [
    "### Reference comparison"
   ]
  },
  {
   "cell_type": "code",
   "execution_count": null,
   "metadata": {
    "collapsed": true
   },
   "outputs": [],
   "source": [
    "for label in ref_labels:\n",
    "    print('{0}\\n{1}'.format(label, '-' * 50))\n",
    "    print(validation.compare_clusters(cc_biclusters[label], ref_clusters))\n",
    "    print()"
   ]
  },
  {
   "cell_type": "code",
   "execution_count": null,
   "metadata": {
    "collapsed": true
   },
   "outputs": [],
   "source": []
  }
 ],
 "metadata": {
  "kernelspec": {
   "display_name": "Python [conda env:anaconda]",
   "language": "python",
   "name": "conda-env-anaconda-py"
  },
  "language_info": {
   "codemirror_mode": {
    "name": "ipython",
    "version": 3
   },
   "file_extension": ".py",
   "mimetype": "text/x-python",
   "name": "python",
   "nbconvert_exporter": "python",
   "pygments_lexer": "ipython3",
   "version": "3.6.3"
  }
 },
 "nbformat": 4,
 "nbformat_minor": 2
}
